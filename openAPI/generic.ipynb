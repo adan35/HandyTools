{
 "cells": [
  {
   "cell_type": "code",
   "execution_count": 47,
   "metadata": {},
   "outputs": [],
   "source": [
    "import numpy as np\n",
    "import pandas as pd\n",
    "from collections import defaultdict\n",
    "import os\n",
    "from dataDictionary import makeDataDic"
   ]
  },
  {
   "cell_type": "code",
   "execution_count": 48,
   "metadata": {},
   "outputs": [],
   "source": [
    "fname = \"updateAds2.xlsx\"\n",
    "dataset = pd.read_excel(fname)\n",
    "dataset = dataset.loc[:, ~dataset.columns.str.contains('^Unnamed')]\n",
    "X = dataset.iloc[:, :].values"
   ]
  },
  {
   "cell_type": "code",
   "execution_count": 49,
   "metadata": {},
   "outputs": [],
   "source": [
    "count = len(X[0, :])\n",
    "if count == 5:\n",
    "    isRequst = True\n",
    "else:\n",
    "    isRequst = False"
   ]
  },
  {
   "cell_type": "code",
   "execution_count": 50,
   "metadata": {},
   "outputs": [],
   "source": [
    "mobj = fname[0:fname.index(\".\")-1]\n",
    "true_name = mobj[0].capitalize() + mobj[1:]\n",
    "if isRequst:\n",
    "  main_name = mobj  \n",
    "else:\n",
    "  main_name = mobj + \"Response\""
   ]
  },
  {
   "cell_type": "code",
   "execution_count": 51,
   "metadata": {},
   "outputs": [],
   "source": [
    "c = mobj[0].capitalize()\n",
    "mobj = c + mobj[1:]\n",
    "mobj\n",
    "if isRequst:\n",
    "    mobj += \"Type\"\n",
    "else:\n",
    "    mobj += \"ResponseType\""
   ]
  },
  {
   "cell_type": "code",
   "execution_count": 52,
   "metadata": {},
   "outputs": [
    {
     "data": {
      "text/plain": [
       "'UpdateAdsResponseType'"
      ]
     },
     "execution_count": 52,
     "metadata": {},
     "output_type": "execute_result"
    }
   ],
   "source": [
    "mobj"
   ]
  },
  {
   "cell_type": "code",
   "execution_count": 53,
   "metadata": {},
   "outputs": [],
   "source": [
    "result = f\"\"\"\n",
    "    {mobj}:\n",
    "      type: object\n",
    "      properties:\n",
    "\"\"\""
   ]
  },
  {
   "cell_type": "code",
   "execution_count": 54,
   "metadata": {},
   "outputs": [
    {
     "name": "stdout",
     "output_type": "stream",
     "text": [
      "\n",
      "    UpdateAdsResponseType:\n",
      "      type: object\n",
      "      properties:\n",
      "\n"
     ]
    }
   ],
   "source": [
    "print(result)"
   ]
  },
  {
   "cell_type": "code",
   "execution_count": 55,
   "metadata": {},
   "outputs": [],
   "source": [
    "result += f\"\"\"        {main_name}:\n",
    "          type: object\n",
    "          properties: \n",
    "\"\"\""
   ]
  },
  {
   "cell_type": "code",
   "execution_count": 56,
   "metadata": {},
   "outputs": [
    {
     "name": "stdout",
     "output_type": "stream",
     "text": [
      "\n",
      "    UpdateAdsResponseType:\n",
      "      type: object\n",
      "      properties:\n",
      "        updateAdsResponse:\n",
      "          type: object\n",
      "          properties: \n",
      "\n"
     ]
    }
   ],
   "source": [
    "print(result)"
   ]
  },
  {
   "cell_type": "code",
   "execution_count": 57,
   "metadata": {},
   "outputs": [],
   "source": [
    "def camel_case(string):\n",
    "  c = string[0].lower()\n",
    "  string = c + string[1:]\n",
    "  return string"
   ]
  },
  {
   "cell_type": "code",
   "execution_count": 58,
   "metadata": {},
   "outputs": [],
   "source": [
    "required = defaultdict(lambda: [])\n",
    "if isRequst:\n",
    "  for row in X:\n",
    "    tag = row[0].split('>')\n",
    "    tag = [el.strip() for el in tag]\n",
    "    tag = [el.lower() for el in tag]\n",
    "    if row[-2].lower() == 'y':\n",
    "      required[tag[0]].append(tag[-1])"
   ]
  },
  {
   "cell_type": "code",
   "execution_count": 59,
   "metadata": {},
   "outputs": [],
   "source": [
    "def spaces(string):\n",
    "  return ''.join(['  ' for s in range(string.count('>'))])"
   ]
  },
  {
   "cell_type": "code",
   "execution_count": 60,
   "metadata": {},
   "outputs": [],
   "source": [
    "def extractNandM(string:str):\n",
    "  n = \"\"\n",
    "  m = \"\"\n",
    "  nfound = True\n",
    "  ffound = False\n",
    "  for el in string:\n",
    "    if el.isdigit():\n",
    "      ffound = True\n",
    "      if nfound:\n",
    "        n += el\n",
    "      else:\n",
    "        m += el\n",
    "    else:\n",
    "      if ffound:\n",
    "        nfound = False\n",
    "  return [n, m]"
   ]
  },
  {
   "cell_type": "code",
   "execution_count": 61,
   "metadata": {},
   "outputs": [],
   "source": [
    "def makeTSpaces(num, mCount=0, mmCount=0):\n",
    "  if mmCount > 1 and mCount != 0:\n",
    "    num += mmCount \n",
    "  return ''.join(['  ']*num)"
   ]
  },
  {
   "cell_type": "code",
   "execution_count": 62,
   "metadata": {},
   "outputs": [],
   "source": [
    "def checkDefault(default):\n",
    "  if type(default) != float and default:\n",
    "    return f\"\"\"default: {default}\"\"\"\n",
    "  else:\n",
    "    return \"\""
   ]
  },
  {
   "cell_type": "code",
   "execution_count": 63,
   "metadata": {},
   "outputs": [],
   "source": [
    "def ismatchany(pre, curr):\n",
    "    i = 0\n",
    "    mCount = 0\n",
    "    tCount = len(pre) if len(pre) > len(curr) else len(curr)\n",
    "    while i < len(pre) and i < len(curr):\n",
    "      if pre[i] == curr[i]:\n",
    "        mCount += 1\n",
    "      else:\n",
    "        break\n",
    "      i += 1\n",
    "    return [True if mCount > 0 else False, mCount, tCount - mCount]"
   ]
  },
  {
   "cell_type": "code",
   "execution_count": 64,
   "metadata": {},
   "outputs": [],
   "source": [
    "def camel_case(s):\n",
    "  return ''.join([s[0].lower(), s[1:]])"
   ]
  },
  {
   "cell_type": "code",
   "execution_count": 65,
   "metadata": {},
   "outputs": [],
   "source": [
    "def initalization(lst):\n",
    "  obj = \"\"\"\"\"\"\n",
    "  robj = \"\"\"\"\"\"\n",
    "  rflag = False\n",
    "  tag = lst[0]\n",
    "  data = lst[1].replace(' ', '')\n",
    "  if isRequst:\n",
    "    default = lst[2]\n",
    "    req = lst[3]\n",
    "  else:\n",
    "    default = None\n",
    "    req = None\n",
    "  des = lst[-1]\n",
    "  tag = tag.split('>')\n",
    "  tag = [el.replace(' ', '') for el in tag]\n",
    "  tag = [camel_case(el) for el in tag]\n",
    "  tLength = len(tag)\n",
    "  return tag, data,default, req, des, obj, robj, rflag, tLength, 0"
   ]
  },
  {
   "cell_type": "code",
   "execution_count": 66,
   "metadata": {},
   "outputs": [],
   "source": [
    "def findenum(des):\n",
    "  des = des.split()\n",
    "  s = set()\n",
    "  for word in des:\n",
    "    word = ''.join(c for c in word if c.isalpha())\n",
    "    if len(word) == 1 and word.isupper():\n",
    "      s.add(word)\n",
    "  return s"
   ]
  },
  {
   "cell_type": "code",
   "execution_count": 67,
   "metadata": {},
   "outputs": [],
   "source": [
    "def makeObject(lst, pre, ts=0, o=0, dSpaces=2):\n",
    "  tag, data, default, req, des, obj, robj, rflag, tLength, i = initalization(lst)\n",
    "  elist = None\n",
    "\n",
    "  n, m = extractNandM(data)\n",
    "\n",
    "  if n == '1' and m == '':\n",
    "    elist = findenum(des)\n",
    "\n",
    "  ismatch, mCount, mmCount = ismatchany(pre, tag)\n",
    "  \n",
    "  if ismatch:\n",
    "    tag = tag[mCount:]\n",
    "    if len(pre) >= tLength:\n",
    "      o -= (mmCount - 1)\n",
    "      ts -= mmCount\n",
    "    else:\n",
    "      o = mCount\n",
    "      ts = mCount\n",
    "  else:\n",
    "    o = 0\n",
    "    ts = 0\n",
    "    key = tag[0].lower()\n",
    "    if len(required[key]) != 0:\n",
    "      robj += f\"\"\"{makeTSpaces(dSpaces+1)}required:\\n\"\"\"\n",
    "      lst = required[key]\n",
    "      rflag = True\n",
    "      for el in lst:\n",
    "        robj += f\"\"\"{makeTSpaces(dSpaces+2)}- {el}\\n\"\"\"\n",
    "  \n",
    "  length = len(tag)\n",
    "\n",
    "  while i < length-1:\n",
    "    obj += f\"\"\"{makeTSpaces(o+ts+dSpaces)}{tag[i].lower() if len(tag[i]) < 4 else tag[i]}:\\n\"\"\"\n",
    "    ts += 1\n",
    "    obj += f\"\"\"{makeTSpaces(o+ts+dSpaces)}type: object\\n\"\"\"\n",
    "    if robj != \"\" and rflag:\n",
    "      obj += robj\n",
    "      rflag = False\n",
    "    obj += f\"\"\"{makeTSpaces(o+ts+dSpaces)}properties:\\n\"\"\"\n",
    "    o += 1\n",
    "    i += 1\n",
    "\n",
    "  obj += f\"\"\"{makeTSpaces(o+ts+dSpaces)}{tag[i].lower() if len(tag[i]) < 4 else tag[i]}:\\n\"\"\"\n",
    "  ts += 1\n",
    "  obj += f\"\"\"{makeTSpaces(o+ts+dSpaces)}{makeDataDic(isRequst, n, m,makeTSpaces(o+ts+dSpaces))[data]}\\n\"\"\"\n",
    "  default = checkDefault(default)\n",
    "  if default:\n",
    "    obj += f\"\"\"{makeTSpaces(o+ts+dSpaces)}{default}\\n\"\"\"\n",
    "  if elist and isRequst:\n",
    "    obj += f\"\"\"{makeTSpaces(o+ts+dSpaces)}enum:\\n\"\"\"\n",
    "    for el in elist:\n",
    "      obj += f\"\"\"{makeTSpaces(o+ts+dSpaces+1)}- {el}\\n\"\"\"\n",
    "  obj += f\"\"\"{makeTSpaces(o+ts+dSpaces)}description: >\\n\"\"\"\n",
    "  des = des.split('\\n')\n",
    "  for line in des:\n",
    "    obj += f\"\"\"{makeTSpaces(o+ts+1+dSpaces)}{line}\\n\"\"\"\n",
    "  if req and req.lower() == 'c':\n",
    "    obj += f\"\"\"{makeTSpaces(o+ts+1+dSpaces)}This field is conditional.\\n\"\"\"\n",
    "  return obj, ts, o\n"
   ]
  },
  {
   "cell_type": "code",
   "execution_count": 68,
   "metadata": {},
   "outputs": [],
   "source": [
    "pre = []\n",
    "if isRequst:\n",
    "  dSpaces = 2\n",
    "else:\n",
    "  dSpaces = 6\n",
    "bigObj = \"\"\"\"\"\"\n",
    "ts = 0\n",
    "o = 0\n",
    "aObj = \"\"\"\"\"\"\n",
    "caObj = \"\"\"\"\"\"\n",
    "cObj = \"\"\"\"\"\"\n",
    "aFlag = True\n",
    "caFlag = True\n",
    "cFlag = True\n",
    "for row in X:\n",
    "  curr = row\n",
    "  if isRequst:\n",
    "    tag = curr[0].split('>')\n",
    "    tag = tag[0].strip().lower()\n",
    "    if tag == 'acquirer':\n",
    "      if aFlag:\n",
    "        result += f\"\"\"{makeTSpaces(6)}acquirer:\\n\"\"\"\n",
    "        result += f\"\"\"{makeTSpaces(7)}$ref: '#/components/schemas/AcquirerType_{true_name}'\\n\"\"\"\n",
    "        aFlag = False\n",
    "      obj, ts, o = makeObject(curr, pre, ts, o, dSpaces)\n",
    "      aObj += obj\n",
    "    elif tag == 'cardacceptor':\n",
    "      if caFlag:\n",
    "        result += f\"\"\"{makeTSpaces(6)}cardAcceptor:\\n\"\"\"\n",
    "        result += f\"\"\"{makeTSpaces(7)}$ref: '#/components/schemas/CardAcceptorType_{true_name}'\\n\"\"\"\n",
    "        caFlag = False\n",
    "      obj, ts, o = makeObject(curr, pre, ts, o, dSpaces)\n",
    "      caObj += obj\n",
    "    elif tag == 'card':\n",
    "      if cFlag:\n",
    "        result += f\"\"\"{makeTSpaces(6)}card:\\n\"\"\"\n",
    "        result += f\"\"\"{makeTSpaces(7)}$ref: '#/components/schemas/CardType_{true_name}'\\n\"\"\"\n",
    "        cFlag = False\n",
    "      obj, ts, o = makeObject(curr, pre, ts, o, dSpaces)\n",
    "      cObj += obj\n",
    "    else:\n",
    "      obj, ts, o = makeObject(curr, pre, ts, o, 6)\n",
    "      result += obj\n",
    "  else:\n",
    "    obj, ts, o = makeObject(curr, pre, ts, o, dSpaces)\n",
    "    result += obj\n",
    "  pre = curr[0].replace(\" \", \"\").split('>')\n",
    "  pre = [camel_case(el) for el in pre]\n",
    "\n",
    "if isRequst:\n",
    "  result += aObj\n",
    "  result += caObj\n",
    "  result += cObj\n",
    "\n",
    "result = os.linesep.join([s for s in result.splitlines() if s])"
   ]
  },
  {
   "cell_type": "code",
   "execution_count": 69,
   "metadata": {},
   "outputs": [
    {
     "name": "stdout",
     "output_type": "stream",
     "text": [
      "    UpdateAdsResponseType:\n",
      "      type: object\n",
      "      properties:\n",
      "        updateAdsResponse:\n",
      "          type: object\n",
      "          properties: \n",
      "            responseCode:\n",
      "              type: string\n",
      "              format: AN4\n",
      "              description: >\n",
      "                Response code sent from the MCP server See Appendix Response Codes for details.\n",
      "            responseDesc:\n",
      "              type: string\n",
      "              format: Strg\n",
      "              description: >\n",
      "                Response code description or the response message\n",
      "            aDSGroups:\n",
      "              type: object\n",
      "              properties:\n",
      "                aDSGroup:\n",
      "                  type: object\n",
      "                  properties:\n",
      "                    ads:\n",
      "                      type: object\n",
      "                      properties:\n",
      "                        type:\n",
      "                          type: string\n",
      "                          format: Strg5\n",
      "                          description: >\n",
      "                            Group Types\n",
      "                            Please see Appendix R for possible Group types and its description.\n",
      "                        values:\n",
      "                          type: object\n",
      "                          properties:\n",
      "                            value:\n",
      "                              type: string\n",
      "                              format: Strg180\n",
      "                              description: >\n",
      "                                List of ADS value\n",
      "                        relationalOperator:\n",
      "                          type: string\n",
      "                          format: Strg2\n",
      "                          description: >\n",
      "                            This allows you to include multiple ADS in the request by defining relationship between them.\n",
      "                            Please see the appendices Relational Operators\n",
      "                            and Relational Operators and ADS Group Types.\n",
      "                    logicalOperator:\n",
      "                      type: string\n",
      "                      format: Strg3\n",
      "                      description: >\n",
      "                        The logical operators can be used to define a relationship between multiple ADS (attribute Data sets). Values can be: AND or OR\n",
      "                        For example, logical operators can be used to define a relationship between MCC and Countries.\n",
      "                    aDSGroupId:\n",
      "                      type: string\n",
      "                      format: Strg9\n",
      "                      description: >\n",
      "                        ADS group ID, which can later be used to identify the ADS group\n",
      "                logicalOperator:\n",
      "                  type: string\n",
      "                  format: Strg3\n",
      "                  description: >\n",
      "                    The logical operators can be used to define a relationship between multiple ADS (attribute Data sets). Values can be: AND or OR\n",
      "                    For example, logical operators can be used to define a relationship between MCC and Countries.\n",
      "                aDSGroupsId:\n",
      "                  type: string\n",
      "                  format: Strg9\n",
      "                  description: >\n",
      "                    ADS group ID, which can later be used to identify the ADS group\n",
      "            transId:\n",
      "              type: string\n",
      "              format: XN11\n",
      "              description: >\n",
      "                Identifier code for the transaction. This can be used to later refer to the details for the transaction.\n",
      "                ‘X’ represents the prefixed character that indicates\n",
      "                type of the transaction message. See Appendix Transaction Type Codes for details.\n"
     ]
    }
   ],
   "source": [
    "print(result)"
   ]
  }
 ],
 "metadata": {
  "kernelspec": {
   "display_name": "Python 3.10.7 64-bit",
   "language": "python",
   "name": "python3"
  },
  "language_info": {
   "codemirror_mode": {
    "name": "ipython",
    "version": 3
   },
   "file_extension": ".py",
   "mimetype": "text/x-python",
   "name": "python",
   "nbconvert_exporter": "python",
   "pygments_lexer": "ipython3",
   "version": "3.10.7"
  },
  "orig_nbformat": 4,
  "vscode": {
   "interpreter": {
    "hash": "e593ac106456af50ce7af38f9671c411b49d6cd90f9b885e167f0f594e09038c"
   }
  }
 },
 "nbformat": 4,
 "nbformat_minor": 2
}
