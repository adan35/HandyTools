{
 "cells": [
  {
   "cell_type": "code",
   "execution_count": 584,
   "metadata": {},
   "outputs": [],
   "source": [
    "import numpy as np\n",
    "import pandas as pd\n",
    "from collections import defaultdict"
   ]
  },
  {
   "cell_type": "code",
   "execution_count": 585,
   "metadata": {},
   "outputs": [],
   "source": [
    "fname = \"test.tsv\"\n",
    "dataset = pd.read_csv(fname, sep=\"\\t\")\n",
    "X = dataset.iloc[:, :].values"
   ]
  },
  {
   "cell_type": "code",
   "execution_count": 586,
   "metadata": {},
   "outputs": [],
   "source": [
    "X = np.array([\n",
    "  [\n",
    "    \"SendClearCard > ID\",\n",
    "    \"AN14\",\n",
    "    \"N/A\",\n",
    "    \"O\",\n",
    "    \"hello world 5\"\n",
    "  ],\n",
    "  [\n",
    "    \"SendClearCard > Statements > Stat > SSS\",\n",
    "    \"AN14\",\n",
    "    \"N/A\",\n",
    "    \"O\",\n",
    "    \"hello world 4\"\n",
    "  ],\n",
    "  [\n",
    "    \"Acquirer > a > a > a > a > a\",\n",
    "    \"AN14\",\n",
    "    \"N/A\",\n",
    "    \"O\",\n",
    "    \"hello world 5\"\n",
    "  ],\n",
    "  [\n",
    "    \"Acquirer > b > b > b > b > b > b > b > b\",\n",
    "    \"AN14\",\n",
    "    \"N/A\",\n",
    "    \"O\",\n",
    "    \"hello world 5\"\n",
    "  ],\n",
    "  [\n",
    "    \"Acquirer > c\",\n",
    "    \"AN14\",\n",
    "    \"N/A\",\n",
    "    \"O\",\n",
    "    \"hello world 5\"\n",
    "  ],\n",
    "  [\n",
    "    \"cardAccpetor > dd\",\n",
    "    \"AN14\",\n",
    "    \"N/A\",\n",
    "    \"O\",\n",
    "    \"hello world 5\"\n",
    "  ],\n",
    "]\n",
    ")"
   ]
  },
  {
   "cell_type": "code",
   "execution_count": 587,
   "metadata": {},
   "outputs": [
    {
     "data": {
      "text/plain": [
       "array([['SendClearCard > ID', 'AN14', 'N/A', 'O', 'hello world 5'],\n",
       "       ['SendClearCard > Statements > Stat > SSS', 'AN14', 'N/A', 'O',\n",
       "        'hello world 4'],\n",
       "       ['Acquirer > a > a > a > a > a', 'AN14', 'N/A', 'O',\n",
       "        'hello world 5'],\n",
       "       ['Acquirer > b > b > b > b > b > b > b > b', 'AN14', 'N/A', 'O',\n",
       "        'hello world 5'],\n",
       "       ['Acquirer > c', 'AN14', 'N/A', 'O', 'hello world 5'],\n",
       "       ['cardAccpetor > dd', 'AN14', 'N/A', 'O', 'hello world 5']],\n",
       "      dtype='<U40')"
      ]
     },
     "execution_count": 587,
     "metadata": {},
     "output_type": "execute_result"
    }
   ],
   "source": [
    "X"
   ]
  },
  {
   "cell_type": "code",
   "execution_count": 588,
   "metadata": {},
   "outputs": [],
   "source": [
    "count = len(X[0, :])\n",
    "if count == 5:\n",
    "    isRequst = True\n",
    "else:\n",
    "    isRequst = False"
   ]
  },
  {
   "cell_type": "code",
   "execution_count": 589,
   "metadata": {},
   "outputs": [],
   "source": [
    "mobj = fname[0:fname.index(\".\")]\n",
    "main_name = mobj"
   ]
  },
  {
   "cell_type": "code",
   "execution_count": 590,
   "metadata": {},
   "outputs": [],
   "source": [
    "c = mobj[0].capitalize()\n",
    "mobj = c + mobj[1:]\n",
    "mobj\n",
    "if isRequst:\n",
    "    mobj += \"Type\"\n",
    "else:\n",
    "    mobj += \"ResponseType\""
   ]
  },
  {
   "cell_type": "code",
   "execution_count": 591,
   "metadata": {},
   "outputs": [
    {
     "data": {
      "text/plain": [
       "'TestType'"
      ]
     },
     "execution_count": 591,
     "metadata": {},
     "output_type": "execute_result"
    }
   ],
   "source": [
    "mobj"
   ]
  },
  {
   "cell_type": "code",
   "execution_count": 592,
   "metadata": {},
   "outputs": [],
   "source": [
    "result = f\"\"\"\n",
    "    {mobj}:\n",
    "      type: object\n",
    "      properties:\n",
    "\"\"\""
   ]
  },
  {
   "cell_type": "code",
   "execution_count": 593,
   "metadata": {},
   "outputs": [
    {
     "name": "stdout",
     "output_type": "stream",
     "text": [
      "\n",
      "    TestType:\n",
      "      type: object\n",
      "      properties:\n",
      "\n"
     ]
    }
   ],
   "source": [
    "print(result)"
   ]
  },
  {
   "cell_type": "code",
   "execution_count": 594,
   "metadata": {},
   "outputs": [],
   "source": [
    "result += f\"\"\"        {main_name}:\n",
    "          type: object\n",
    "          properties: \n",
    "\"\"\""
   ]
  },
  {
   "cell_type": "code",
   "execution_count": 595,
   "metadata": {},
   "outputs": [
    {
     "name": "stdout",
     "output_type": "stream",
     "text": [
      "\n",
      "    TestType:\n",
      "      type: object\n",
      "      properties:\n",
      "        test:\n",
      "          type: object\n",
      "          properties: \n",
      "\n"
     ]
    }
   ],
   "source": [
    "print(result)"
   ]
  },
  {
   "cell_type": "code",
   "execution_count": 596,
   "metadata": {},
   "outputs": [],
   "source": [
    "def camel_case(string):\n",
    "  c = string[0].lower()\n",
    "  string = c + string[1:]\n",
    "  return string"
   ]
  },
  {
   "cell_type": "code",
   "execution_count": 597,
   "metadata": {},
   "outputs": [],
   "source": [
    "def spaces(string):\n",
    "  return ''.join(['  ' for s in range(string.count('>'))])"
   ]
  },
  {
   "cell_type": "code",
   "execution_count": 598,
   "metadata": {},
   "outputs": [],
   "source": [
    "def extractNandM(string:str):\n",
    "  n = \"\"\n",
    "  m = \"\"\n",
    "  nfound = True\n",
    "  ffound = False\n",
    "  for el in string:\n",
    "    if el.isdigit():\n",
    "      ffound = True\n",
    "      if nfound:\n",
    "        n += el\n",
    "      else:\n",
    "        m += el\n",
    "    else:\n",
    "      if ffound:\n",
    "        nfound = False\n",
    "  return [n, m]"
   ]
  },
  {
   "cell_type": "code",
   "execution_count": 599,
   "metadata": {},
   "outputs": [],
   "source": [
    "def makeTSpaces(num, mCount=0, mmCount=0):\n",
    "  if mmCount > 1 and mCount != 0:\n",
    "    num += mmCount \n",
    "  return ''.join(['  ']*num)"
   ]
  },
  {
   "cell_type": "code",
   "execution_count": 600,
   "metadata": {},
   "outputs": [],
   "source": [
    "def checkDefault(default):\n",
    "  if type(default) != float:\n",
    "    return f\"\"\"default: {default}\"\"\"\n",
    "  else:\n",
    "    return \"\""
   ]
  },
  {
   "cell_type": "code",
   "execution_count": 601,
   "metadata": {},
   "outputs": [],
   "source": [
    "# from cmath import nan\n",
    "# from dataDictionary import makeDataDic\n",
    "\n",
    "# def makeObject(lst, obj):\n",
    "#   tag = lst[0]\n",
    "#   data = lst[1].replace(\" \", \"\")\n",
    "#   default = lst[2]\n",
    "#   req = lst[3].strip(' ')\n",
    "#   des = lst[-1]\n",
    "#   n, m = extractNandM(data)\n",
    "#   dataDic = makeDataDic(n,m, makeTSpaces(7))\n",
    "#   obj = \"\"\"\"\"\"\n",
    "#   if tag.count('>') == 0:\n",
    "#     obj += f\"\"\"{makeTSpaces(6)}{camel_case(tag)}:\n",
    "# {makeTSpaces(7)}{dataDic[data]}\n",
    "# {makeTSpaces(7)}{checkDefault(default)}\n",
    "# {makeTSpaces(7)}description: >\n",
    "# {makeTSpaces(8)}{des}\"\"\"\n",
    "#     return obj\n",
    "#     if tag.count('>') > 0:\n",
    "#       pass"
   ]
  },
  {
   "cell_type": "code",
   "execution_count": 602,
   "metadata": {},
   "outputs": [],
   "source": [
    "# l = [\"request\", \"N10\", \"N/A\", \"hello everyone\"]\n",
    "# o = makeObject(l, acquirerObj)\n",
    "# print(o)"
   ]
  },
  {
   "cell_type": "code",
   "execution_count": 603,
   "metadata": {},
   "outputs": [],
   "source": [
    "# n = len(X)\n",
    "# flagA = True\n",
    "# flagC = True\n",
    "# flagCA = True\n",
    "# acquirerObj = f\"\"\"    Acquirer_{main_name.capitalize()}:\n",
    "#       type: object\n",
    "#       properties:\n",
    "# \"\"\"\n",
    "# for i in range(n):\n",
    "#   first = camel_case(required(tag[i])[0])\n",
    "#   acquirerObj += makeObject(X[i], acquirerObj)\n",
    "#   if first == \"acquirer\": \n",
    "#     if flagA:\n",
    "#       result += f\"\"\"            acquirer:\n",
    "#               $ref: '#/components/schemas/Acquirer_{main_name.capitalize()}'\n",
    "# \"\"\"\n",
    "#       flagA = False"
   ]
  },
  {
   "cell_type": "code",
   "execution_count": 604,
   "metadata": {},
   "outputs": [],
   "source": [
    "def ismatchany(pre, curr):\n",
    "    i = 0\n",
    "    mCount = 0\n",
    "    tCount = len(pre) if len(pre) > len(curr) else len(curr)\n",
    "    while i < len(pre) and i < len(curr):\n",
    "      if pre[i] == curr[i]:\n",
    "        mCount += 1\n",
    "      else:\n",
    "        break\n",
    "      i += 1\n",
    "    return [True if mCount > 0 else False, mCount, tCount - mCount]"
   ]
  },
  {
   "cell_type": "code",
   "execution_count": 605,
   "metadata": {},
   "outputs": [],
   "source": [
    "from re import sub\n",
    "def camel_case(s):\n",
    "  return ''.join([s[0].lower(), s[1:]])"
   ]
  },
  {
   "cell_type": "code",
   "execution_count": 606,
   "metadata": {},
   "outputs": [
    {
     "name": "stdout",
     "output_type": "stream",
     "text": [
      "    sendClearCard:\n",
      "      type: object\n",
      "      properties:\n",
      "        id:\n",
      "          type: string\n",
      "          format: AN14\n",
      "          default: N/A\n",
      "          description: >\n",
      "            hello world 5\n",
      "        statements:\n",
      "          type: object\n",
      "          properties:\n",
      "            stat:\n",
      "              type: object\n",
      "              properties:\n",
      "                sss:\n",
      "                  type: string\n",
      "                  format: AN14\n",
      "                  default: N/A\n",
      "                  description: >\n",
      "                    hello world 4\n",
      "    acquirer:\n",
      "      type: object\n",
      "      properties:\n",
      "        a:\n",
      "          type: object\n",
      "          properties:\n",
      "            a:\n",
      "              type: object\n",
      "              properties:\n",
      "                a:\n",
      "                  type: object\n",
      "                  properties:\n",
      "                    a:\n",
      "                      type: object\n",
      "                      properties:\n",
      "                        a:\n",
      "                          type: string\n",
      "                          format: AN14\n",
      "                          default: N/A\n",
      "                          description: >\n",
      "                            hello world 5\n",
      "        b:\n",
      "          type: object\n",
      "          properties:\n",
      "            b:\n",
      "              type: object\n",
      "              properties:\n",
      "                b:\n",
      "                  type: object\n",
      "                  properties:\n",
      "                    b:\n",
      "                      type: object\n",
      "                      properties:\n",
      "                        b:\n",
      "                          type: object\n",
      "                          properties:\n",
      "                            b:\n",
      "                              type: object\n",
      "                              properties:\n",
      "                                b:\n",
      "                                  type: object\n",
      "                                  properties:\n",
      "                                    b:\n",
      "                                      type: string\n",
      "                                      format: AN14\n",
      "                                      default: N/A\n",
      "                                      description: >\n",
      "                                        hello world 5\n",
      "        c:\n",
      "          type: string\n",
      "          format: AN14\n",
      "          default: N/A\n",
      "          description: >\n",
      "            hello world 5\n",
      "    cardAccpetor:\n",
      "      type: object\n",
      "      properties:\n",
      "        dd:\n",
      "          type: string\n",
      "          format: AN14\n",
      "          default: N/A\n",
      "          description: >\n",
      "            hello world 5\n"
     ]
    }
   ],
   "source": [
    "import os\n",
    "from dataDictionary import makeDataDic\n",
    "\n",
    "def makeObject(lst, pre, ts=0, o=0, dSpaces=2):\n",
    "  obj = \"\"\"\"\"\"\n",
    "  tag = lst[0]\n",
    "  data = lst[1].replace(' ', '')\n",
    "  if isRequst:\n",
    "    default = lst[2]\n",
    "    req = lst[3]\n",
    "  else:\n",
    "    default = None\n",
    "    req = None\n",
    "  des = lst[-1]\n",
    "  tag = tag.split('>')\n",
    "  tag = [el.replace(' ', '') for el in tag]\n",
    "  tag = [camel_case(el) for el in tag]\n",
    "  tLength = len(tag)\n",
    "\n",
    "  n, m = extractNandM(data)\n",
    "\n",
    "  ismatch, mCount, mmCount = ismatchany(pre, tag)\n",
    "  \n",
    "  if ismatch:\n",
    "    tag = tag[mCount:]\n",
    "    if len(pre) >= tLength:\n",
    "      o -= (mmCount - 1)\n",
    "      ts -= mmCount\n",
    "    else:\n",
    "      o = mCount\n",
    "      ts = mCount\n",
    "  else:\n",
    "    o = 0\n",
    "    ts = 0\n",
    "  \n",
    "  length = len(tag)\n",
    "\n",
    "  i = 0\n",
    "  while i < length-1:\n",
    "    obj += f\"\"\"{makeTSpaces(o+ts+dSpaces)}{tag[i].lower() if len(tag[i]) < 4 else tag[i]}:\\n\"\"\"\n",
    "    ts += 1\n",
    "    obj += f\"\"\"{makeTSpaces(o+ts+dSpaces)}type: object\\n\"\"\"\n",
    "    obj += f\"\"\"{makeTSpaces(o+ts+dSpaces)}properties:\\n\"\"\"\n",
    "    o += 1\n",
    "    i += 1\n",
    "\n",
    "  obj += f\"\"\"{makeTSpaces(o+ts+dSpaces)}{tag[i].lower() if len(tag[i]) < 4 else tag[i]}:\\n\"\"\"\n",
    "  ts += 1\n",
    "  obj += f\"\"\"{makeTSpaces(o+ts+dSpaces)}{makeDataDic(n, m, makeTSpaces(o+ts+dSpaces))[data]}\\n\"\"\"\n",
    "  default = checkDefault(default)\n",
    "  if default:\n",
    "    obj += f\"\"\"{makeTSpaces(o+ts+dSpaces)}{default}\\n\"\"\"\n",
    "  obj += f\"\"\"{makeTSpaces(o+ts+dSpaces)}description: >\n",
    "{makeTSpaces(o+ts+1+dSpaces)}{des}\\n\"\"\"\n",
    "  return obj, ts, o\n",
    "\n",
    "pre = []\n",
    "if isRequst:\n",
    "  dSpaces = 2\n",
    "else:\n",
    "  dSpaces = 4\n",
    "bigObj = \"\"\"\"\"\"\n",
    "ts = 0\n",
    "o = 0\n",
    "for row in X:\n",
    "  curr = row\n",
    "  obj, ts, o = makeObject(curr, pre, ts, o, dSpaces)\n",
    "  bigObj += obj\n",
    "  pre = curr[0].replace(\" \", \"\").split('>')\n",
    "  pre = [camel_case(el) for el in pre]\n",
    "bigObj = os.linesep.join([s for s in bigObj.splitlines() if s])\n",
    "print(bigObj)"
   ]
  }
 ],
 "metadata": {
  "kernelspec": {
   "display_name": "Python 3.10.7 64-bit",
   "language": "python",
   "name": "python3"
  },
  "language_info": {
   "codemirror_mode": {
    "name": "ipython",
    "version": 3
   },
   "file_extension": ".py",
   "mimetype": "text/x-python",
   "name": "python",
   "nbconvert_exporter": "python",
   "pygments_lexer": "ipython3",
   "version": "3.10.7"
  },
  "orig_nbformat": 4,
  "vscode": {
   "interpreter": {
    "hash": "e593ac106456af50ce7af38f9671c411b49d6cd90f9b885e167f0f594e09038c"
   }
  }
 },
 "nbformat": 4,
 "nbformat_minor": 2
}
