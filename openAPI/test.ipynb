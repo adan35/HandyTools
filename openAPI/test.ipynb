{
 "cells": [
  {
   "cell_type": "code",
   "execution_count": 145,
   "metadata": {},
   "outputs": [],
   "source": [
    "import numpy as np\n",
    "import pandas as pd"
   ]
  },
  {
   "cell_type": "code",
   "execution_count": 146,
   "metadata": {},
   "outputs": [
    {
     "data": {
      "text/plain": [
       "array([['ID', 'AN 11', nan, 'Y',\n",
       "        'Acquirer Identification Code. This is a unique code assigned to each of the acquirer of the MCP service.'],\n",
       "       ['Acquirer > User ID', 'AN 20', nan, 'C',\n",
       "        'Acquirer’s user ID assigned by MCP.'],\n",
       "       ['Acquirer > Password', 'Strg 512', nan, 'C',\n",
       "        'Acquirer’s password assigned by MCP or encrypted string.'],\n",
       "       ['Acquirer > ARN', 'Strg 20', nan, 'O',\n",
       "        'Acquirer’s Reference Number.'],\n",
       "       ['Acquirer > Additional > Data1', 'Strg 25', nan, 'O',\n",
       "        'Additional Data that acquirer wants to pass along for reference or any other purpose.'],\n",
       "       ['Acquirer > Additional > Data2', 'Strg 25', nan, 'O',\n",
       "        'Additional Data that acquirer wants to pass along for reference or any other purpose.'],\n",
       "       ['Acquirer > Additional > Data3', 'Strg 25', nan, 'O',\n",
       "        'Additional Data that acquirer wants to pass along for reference or any other purpose.'],\n",
       "       ['CardAcceptor > ID', 'AN 15', nan, 'O', 'Merchant identifier.'],\n",
       "       ['CardAcceptor > NameAndLocation', 'N 40', nan, 'O',\n",
       "        'Merchant’s name and location. Characters from: • 1-23 contain the merchant name. • 24-36 contain the city name. • 37-38 contain state code. • 39-40 contain country code.'],\n",
       "       ['CardAcceptor > MCC', 'Strg 4', nan, 'O',\n",
       "        'Merchant Category Code. Only Digit values are allowed in this tag.'],\n",
       "       ['CardAcceptor > DeviceId', 'Strg 64', nan, 'O',\n",
       "        'The merchant’s device identifier.'],\n",
       "       ['CardAcceptor > DeviceType', 'A 1', 'W', 'O',\n",
       "        'Device type identifier.'],\n",
       "       ['CardAcceptor > LocalDateTime', 'DT', 'Current Date & Time', 'O',\n",
       "        'Date and time of the device sending the request. Date format: YYYY-MM-DDTHH:MM:SS'],\n",
       "       ['CardAcceptor > ClerkId', 'AN 10', nan, 'O',\n",
       "        'Clerk ID RSR. (RSR stands for Retail Store Representative)'],\n",
       "       ['CardAcceptor > InterfaceId', 'Strg 15', nan, 'O',\n",
       "        'Identifies the interface from where the request is initiated.'],\n",
       "       ['Card > Number', 'Strg 19', nan, 'C',\n",
       "        'Number of the card to register. Only Digit values are allowed in this tag. If ReferenceID is given, this number is optional. Otherwise, it is mandatory.'],\n",
       "       ['Card > ReferenceID', 'AN 40', nan, 'C',\n",
       "        '12 or 15 digit Card Reference Number used to identify a card. If card number is provided the Reference ID is optional otherwise it is mandatory.'],\n",
       "       ['Card > CustomerId', 'AN 20', nan, 'C',\n",
       "        'The customer ID, unique to each cardholder. This is required if the Card Number or the Reference Number is not provided.'],\n",
       "       ['Card > MemberNumber', 'N 19', nan, 'C',\n",
       "        'Cardholder’s card account number If ReferenceID or CustomerId is given this number is optional, otherwise it is mandatory.'],\n",
       "       ['Card > CardBIN', 'Strg 6 to Strg 8', nan, 'C',\n",
       "        'Card BIN (Bank identification number). Only Digit values are allowed in this tag.'],\n",
       "       ['Card > StartingNumbers', 'N 6 to N 10', nan, 'O',\n",
       "        'At least six Card Starting Numbers (BIN). Only Digit values are allowed in this tag. This is Required if the card account number is not present.'],\n",
       "       ['ExternalCardProfile > Action', 'A 1', 'A', 'Y',\n",
       "        'Values can be A, U, R or X. • A: Add a new account number with this profile. (Default) • Update the existing profile only. • Remove the existing account number. • Add a new account number with this profile or Update the existing profile only (Default)'],\n",
       "       ['ExternalCardProfile > AccountNumber', 'Strg 19', nan, 'O',\n",
       "        'External card account number. Only Digit values are allowed in this tag.'],\n",
       "       ['ExternalCardProfile > AccountReferenceID', 'AN 40', nan, 'O',\n",
       "        'The reference ID for the account number.'],\n",
       "       ['ExternalCardProfile > CardType', 'A 1', nan, 'O',\n",
       "        'Identifies the card type: • V – Visa • M – MasterCard, Eurocard2 • A – American Express • D – Discover • C – Diners Club • B – Carte Blanche • J – JCB • E – EnRoute • L – JAL • T – Maestro (UK Domestic) • N – NICOS house card • X – Delta • Y – Visa Electron • Z – Dankort • P – Carte Bleue • Q – Carta Si • R – Encoded account number • S – UATP • U – Maestro (International) • F – ORICO house card • G – Elo In case no value is provided, the default card type defined for the card program will be used.'],\n",
       "       ['ExternalCardProfile > SecurityCode', 'Strg 512', nan, 'O',\n",
       "        'The security code (CVV2/CVC2) to be validated. Only Digit values are allowed in this tag or encrypted String.'],\n",
       "       ['ExternalCardProfile > ExpiryDate', 'Strg 512', nan, 'O',\n",
       "        \"Card's Expiry Date or encrypted string.\"],\n",
       "       ['ExternalCardProfile > isDefault', 'A 1', 'Y', 'O',\n",
       "        '• Y – this is the default external card • N – this is not the default external card'],\n",
       "       ['ExternalCardProfile > FirstName', 'Strg 60', nan, 'O',\n",
       "        \"Cardholder's first name.\"],\n",
       "       ['ExternalCardProfile > MiddleName', 'Strg 60', nan, 'O',\n",
       "        \"Cardholder's middle name.\"],\n",
       "       ['ExternalCardProfile > LastName', 'Strg 60', nan, 'O',\n",
       "        \"Cardholder's last name.\"],\n",
       "       ['ExternalCardProfile > Address', 'Strg 60', nan, 'O',\n",
       "        'Cardholder’s Primary Address. This is a mandatory field for OFAC/AVS. If OFAC/AVS is to be performed, then all mandatory fields required for OFAC/AVS must be provided.'],\n",
       "       ['ExternalCardProfile > Address2', 'Strg 60', nan, 'O',\n",
       "        'Secondary Address of cardholder.'],\n",
       "       ['ExternalCardProfile > City', 'Strg 60', nan, 'O',\n",
       "        'Cardholder’s city name. This is a mandatory field for OFAC/AVS. If OFAC/AVS is to be performed, then all mandatory fields required for OFAC/AVS must be provided.'],\n",
       "       ['ExternalCardProfile > StateCode', 'Strg 60', nan, 'O',\n",
       "        'Cardholder’s state name. This is a mandatory field for OFAC/AVS. If OFAC/AVS is to be performed, then all mandatory fields required for OFAC/AVS must be provided.'],\n",
       "       ['ExternalCardProfile > PostalCode', 'AN 80', nan, 'O',\n",
       "        'Cardholder’s zip code. It also supports hyphenated(-) Zip Code. This is a mandatory field for OFAC/AVS. If OFAC/AVS is to be performed, then all mandatory fields required for OFAC/AVS must be provided.'],\n",
       "       ['ExternalCardProfile > Country', 'AN 3', nan, 'O',\n",
       "        'Cardholder’s country code.'],\n",
       "       ['ExternalCardProfile > Email', 'Strg 60', nan, 'O',\n",
       "        'E-mail address.'],\n",
       "       ['ExternalCardProfile > Phone', 'Strg 15', nan, 'O',\n",
       "        \"Cardholder's phone number. Only Digit values are allowed in this tag.\"],\n",
       "       ['ExternalCardProfile > MircoPayments', 'N 10, 2', nan, 'C',\n",
       "        'List of MicroPayment amounts in the request of LinkExternalCard API, value of each will be less than 1.'],\n",
       "       ['ExternalCardProfile> CardLinkingMode', 'N 1', nan, 'O',\n",
       "        'Possible Values are 0 and 1 (0=External Card, 1=Internal Card) Default value is 0 (external)'],\n",
       "       ['ExternalCardProfile> ADSGroupsId', 'AN 9', nan, 'O',\n",
       "        'ADS id is generated in response of existing AddADS API.'],\n",
       "       ['ExternalCardProfile> SequenceNo', 'INT', nan, 'O',\n",
       "        'Used to save the priority of backup/ fall back method cards.'],\n",
       "       ['Description', 'AN 60', nan, 'O', 'Details, comments, etc.'],\n",
       "       ['SendClearCard', 'A 1', nan, 'O',\n",
       "        'The value can be Y or N, where Y sends unmasked card number in response, while N sends a masked card number in response. Not specifying a value will result in the card number being omitted from the response.']],\n",
       "      dtype=object)"
      ]
     },
     "execution_count": 146,
     "metadata": {},
     "output_type": "execute_result"
    }
   ],
   "source": [
    "fname = \"test.tsv\"\n",
    "dataset = pd.read_csv(fname, sep=\"\\t\")\n",
    "X = dataset.iloc[:, :].values\n",
    "X"
   ]
  },
  {
   "cell_type": "code",
   "execution_count": 147,
   "metadata": {},
   "outputs": [],
   "source": [
    "count = len(X[0, :])\n",
    "if count == 5:\n",
    "    isRequst = True\n",
    "else:\n",
    "    isRequst = False\n",
    "if isRequst:\n",
    "    tag = X[:, 0]\n",
    "    data = X[:, 1]\n",
    "    default = X[:, 2]\n",
    "    req = X[:, 3]\n",
    "    desc = X[:, 4]\n",
    "else:\n",
    "    tag = X[:, 0]\n",
    "    data = X[:, 1]\n",
    "    default = None\n",
    "    req = None\n",
    "    desc = X[:, -1]"
   ]
  },
  {
   "cell_type": "code",
   "execution_count": 148,
   "metadata": {},
   "outputs": [],
   "source": [
    "mobj = fname[0:fname.index(\".\")]\n",
    "main_name = mobj"
   ]
  },
  {
   "cell_type": "code",
   "execution_count": 149,
   "metadata": {},
   "outputs": [],
   "source": [
    "c = mobj[0].capitalize()\n",
    "mobj = c + mobj[1:]\n",
    "mobj\n",
    "if isRequst:\n",
    "    mobj += \"Type\"\n",
    "else:\n",
    "    mobj += \"ResponseType\""
   ]
  },
  {
   "cell_type": "code",
   "execution_count": 150,
   "metadata": {},
   "outputs": [
    {
     "data": {
      "text/plain": [
       "'TestType'"
      ]
     },
     "execution_count": 150,
     "metadata": {},
     "output_type": "execute_result"
    }
   ],
   "source": [
    "mobj"
   ]
  },
  {
   "cell_type": "code",
   "execution_count": 151,
   "metadata": {},
   "outputs": [],
   "source": [
    "result = f\"\"\"\n",
    "    {mobj}:\n",
    "      type: object\n",
    "      properties:\n",
    "\"\"\""
   ]
  },
  {
   "cell_type": "code",
   "execution_count": 152,
   "metadata": {},
   "outputs": [
    {
     "name": "stdout",
     "output_type": "stream",
     "text": [
      "\n",
      "    TestType:\n",
      "      type: object\n",
      "      properties:\n",
      "\n"
     ]
    }
   ],
   "source": [
    "print(result)"
   ]
  },
  {
   "cell_type": "code",
   "execution_count": 153,
   "metadata": {},
   "outputs": [],
   "source": [
    "result += f\"\"\"        {main_name}:\n",
    "          type: object\n",
    "          properties: \n",
    "\"\"\""
   ]
  },
  {
   "cell_type": "code",
   "execution_count": 154,
   "metadata": {},
   "outputs": [
    {
     "name": "stdout",
     "output_type": "stream",
     "text": [
      "\n",
      "    TestType:\n",
      "      type: object\n",
      "      properties:\n",
      "        test:\n",
      "          type: object\n",
      "          properties: \n",
      "\n"
     ]
    }
   ],
   "source": [
    "print(result)"
   ]
  },
  {
   "cell_type": "code",
   "execution_count": 155,
   "metadata": {},
   "outputs": [],
   "source": [
    "def lowerize(string):\n",
    "  c = string[0].lower()\n",
    "  string = c + string[1:]\n",
    "  return string"
   ]
  },
  {
   "cell_type": "code",
   "execution_count": 156,
   "metadata": {},
   "outputs": [],
   "source": [
    "def required(string):\n",
    "  string = string.split(\">\")\n",
    "  string = [s.strip() for s in string if s != '']\n",
    "  return string"
   ]
  },
  {
   "cell_type": "code",
   "execution_count": 157,
   "metadata": {},
   "outputs": [
    {
     "data": {
      "text/plain": [
       "['hello', 'sf']"
      ]
     },
     "execution_count": 157,
     "metadata": {},
     "output_type": "execute_result"
    }
   ],
   "source": [
    "string = \"Hello > sf >\"\n",
    "lst = required(string)\n",
    "lst = [lowerize(el) for el in lst]\n",
    "lst"
   ]
  },
  {
   "cell_type": "code",
   "execution_count": 158,
   "metadata": {},
   "outputs": [],
   "source": [
    "def spaces(string):\n",
    "  return ''.join(['  ' for s in range(string.count('>'))])"
   ]
  },
  {
   "cell_type": "code",
   "execution_count": 159,
   "metadata": {},
   "outputs": [
    {
     "data": {
      "text/plain": [
       "['10', '']"
      ]
     },
     "execution_count": 159,
     "metadata": {},
     "output_type": "execute_result"
    }
   ],
   "source": [
    "def extractNandM(string:str):\n",
    "  n = \"\"\n",
    "  m = \"\"\n",
    "  nfound = True\n",
    "  ffound = False\n",
    "  for el in string:\n",
    "    if el.isdigit():\n",
    "      ffound = True\n",
    "      if nfound:\n",
    "        n += el\n",
    "      else:\n",
    "        m += el\n",
    "    else:\n",
    "      if ffound:\n",
    "        nfound = False\n",
    "  return [n, m]\n",
    "s = \"N10\"\n",
    "extractNandM(s)"
   ]
  },
  {
   "cell_type": "code",
   "execution_count": 160,
   "metadata": {},
   "outputs": [],
   "source": [
    "from cmath import nan\n",
    "from dataDictionary import makeDataDic\n",
    "\n",
    "def makeTSpaces(num):\n",
    "  return ''.join(['  ']*num)\n",
    "\n",
    "def checkDefault(default):\n",
    "  if type(default) != float:\n",
    "    return f\"\"\"default: {default}\"\"\"\n",
    "  else:\n",
    "    return \"\"\n",
    "\n",
    "def makeObject(lst, obj):\n",
    "  tag = lst[0]\n",
    "  data = lst[1].replace(\" \", \"\")\n",
    "  default = lst[2]\n",
    "  req = lst[3].strip(' ')\n",
    "  des = lst[-1]\n",
    "  n, m = extractNandM(data)\n",
    "  dataDic = makeDataDic(n,m, makeTSpaces(7))\n",
    "  obj = \"\"\"\"\"\"\n",
    "  if tag.count('>') == 0:\n",
    "    obj += f\"\"\"{makeTSpaces(6)}{lowerize(tag)}:\n",
    "{makeTSpaces(7)}{dataDic[data]}\n",
    "{makeTSpaces(7)}{checkDefault(default)}\n",
    "{makeTSpaces(7)}description: >\n",
    "{makeTSpaces(8)}{des}\"\"\"\n",
    "    return obj\n",
    "    if tag.count('>') > 0:\n",
    "      pass"
   ]
  },
  {
   "cell_type": "code",
   "execution_count": 161,
   "metadata": {},
   "outputs": [],
   "source": [
    "# l = [\"request\", \"N10\", \"N/A\", \"hello everyone\"]\n",
    "# o = makeObject(l, acquirerObj)\n",
    "# print(o)"
   ]
  },
  {
   "cell_type": "code",
   "execution_count": 162,
   "metadata": {},
   "outputs": [
    {
     "name": "stdout",
     "output_type": "stream",
     "text": [
      "            iD:\n",
      "              type: string\n",
      "              format: AN11\n",
      "\n",
      "              \n",
      "              description: >\n",
      "                Acquirer Identification Code. This is a unique code assigned to each of the acquirer of the MCP service.\n",
      "None\n",
      "None\n",
      "None\n",
      "None\n",
      "None\n",
      "None\n",
      "None\n",
      "None\n",
      "None\n",
      "None\n",
      "None\n",
      "None\n",
      "None\n",
      "None\n",
      "None\n",
      "None\n",
      "None\n",
      "None\n",
      "None\n",
      "None\n",
      "None\n",
      "None\n",
      "None\n",
      "None\n",
      "None\n",
      "None\n",
      "None\n",
      "None\n",
      "None\n",
      "None\n",
      "None\n",
      "None\n",
      "None\n",
      "None\n",
      "None\n",
      "None\n",
      "None\n",
      "None\n",
      "None\n",
      "None\n",
      "None\n",
      "None\n",
      "            description:\n",
      "              type: string\n",
      "              format: AN60\n",
      "\n",
      "              \n",
      "              description: >\n",
      "                Details, comments, etc.\n",
      "            sendClearCard:\n",
      "              type: string\n",
      "              format: A1\n",
      "              \n",
      "              description: >\n",
      "                The value can be Y or N, where Y sends unmasked card number in response, while N sends a masked card number in response. Not specifying a value will result in the card number being omitted from the response.\n"
     ]
    }
   ],
   "source": [
    "n = len(X)\n",
    "flagA = True\n",
    "flagC = True\n",
    "flagCA = True\n",
    "acquirerObj = f\"\"\"    Acquirer_{main_name.capitalize()}:\n",
    "      type: object\n",
    "      properties:\n",
    "\"\"\"\n",
    "for i in range(n):\n",
    "  first = lowerize(required(tag[i])[0])\n",
    "  acquirerObj += makeObject(X[i], acquirerObj)\n",
    "  if first == \"acquirer\": \n",
    "    if flagA:\n",
    "      result += f\"\"\"            acquirer:\n",
    "              $ref: '#/components/schemas/Acquirer_{main_name.capitalize()}'\n",
    "\"\"\"\n",
    "      flagA = False"
   ]
  }
 ],
 "metadata": {
  "kernelspec": {
   "display_name": "Python 3.10.7 64-bit",
   "language": "python",
   "name": "python3"
  },
  "language_info": {
   "codemirror_mode": {
    "name": "ipython",
    "version": 3
   },
   "file_extension": ".py",
   "mimetype": "text/x-python",
   "name": "python",
   "nbconvert_exporter": "python",
   "pygments_lexer": "ipython3",
   "version": "3.10.7"
  },
  "orig_nbformat": 4,
  "vscode": {
   "interpreter": {
    "hash": "e593ac106456af50ce7af38f9671c411b49d6cd90f9b885e167f0f594e09038c"
   }
  }
 },
 "nbformat": 4,
 "nbformat_minor": 2
}
