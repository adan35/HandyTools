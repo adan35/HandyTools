{
  "nbformat": 4,
  "nbformat_minor": 0,
  "metadata": {
    "colab": {
      "provenance": []
    },
    "kernelspec": {
      "name": "python3",
      "display_name": "Python 3"
    },
    "language_info": {
      "name": "python"
    }
  },
  "cells": [
    {
      "cell_type": "markdown",
      "source": [
        "Importing the Libraris"
      ],
      "metadata": {
        "id": "MoJGtLgDYycx"
      }
    },
    {
      "cell_type": "code",
      "source": [
        "import numpy as np\n",
        "import pandas as pd\n",
        "import matplotlib.pyplot as plt"
      ],
      "metadata": {
        "id": "2m5OWCYWhRet"
      },
      "execution_count": 142,
      "outputs": []
    },
    {
      "cell_type": "markdown",
      "source": [
        "Excel File Name"
      ],
      "metadata": {
        "id": "wIT5M_8RY5p2"
      }
    },
    {
      "cell_type": "code",
      "source": [
        "xls = pd.ExcelFile('getTransactionHistoryAdvc-sapi-uft-14.xls')\n",
        "gsheet = xls.parse('Global')"
      ],
      "metadata": {
        "id": "w2_2PhAFhvgk"
      },
      "execution_count": 143,
      "outputs": []
    },
    {
      "cell_type": "markdown",
      "source": [
        "Global Sheet Indexes for Request"
      ],
      "metadata": {
        "id": "JPXsIVq0ZFJH"
      }
    },
    {
      "cell_type": "code",
      "source": [
        "cols = gsheet.columns\n",
        "# here goes your index\n",
        "req = cols[:18]\n",
        "def filter(lst):\n",
        "  req = []\n",
        "  for el in lst:\n",
        "    result = el.split('_')\n",
        "    result.pop(0)\n",
        "    result = [el[0].upper() + el[1:] for el in result]\n",
        "    result = ''.join(result)\n",
        "    out = result[0].lower() + result[1:]\n",
        "    req.append(out)\n",
        "  return req \n",
        "req = filter(req)"
      ],
      "metadata": {
        "id": "wbjn6OEhPDu3"
      },
      "execution_count": 174,
      "outputs": []
    },
    {
      "cell_type": "markdown",
      "source": [
        "Make Request Yourself"
      ],
      "metadata": {
        "id": "QfmWy3c6ZKbo"
      }
    },
    {
      "cell_type": "code",
      "source": [
        "req = [(\"cardNo\", \"req_cardNo\"), (\"instanceId\", \"req_instanceId\"), (\"applyFee\", \"req_apply_fee\"),\n",
        "       (\"currencyCode\", \"req_currencyCode\"), (\"purseCardPrgId\", \"req_purseCardPrgId\"), (\"historyStatementType\", \"req_historyStatementType\"),\n",
        "       (\"exportFileTransaction\", \"req_exportFileTransaction\"), (\"brandingId\", \"req_brandingId\"), \n",
        "       (\"exportTransactionsFileTypeVo\", \"req_exportTransactionsFileTypeVo\"), (\"transHistoryOrderByVo\", \"req_transactionHistoryOrderByVo\"),\n",
        "       (\"transactionDurationCriteria\", \"req_TransactionDurationCriteria\"), (\"includeSupplementaryCards\", \"req_includeSupplementaryCards\"), \n",
        "       (\"includeAllPurses\", \"req_includeAllPurses\"), (\"includeSharingBalance\", \"req_includeSharingBalance\"),\n",
        "       (\"includeFeeTransactions\", \"req_includeFeeTransactions\"), (\"dateTo\", \"req_dateTo\"), (\"dateFrom\", \"req_dateFrom\"),\n",
        "       (\"reqProfileOption\", \"req_reqProfileOption\")]"
      ],
      "metadata": {
        "id": "fcn3EWGdKs8K"
      },
      "execution_count": 144,
      "outputs": []
    },
    {
      "cell_type": "markdown",
      "source": [
        "Generic"
      ],
      "metadata": {
        "id": "qSxnie0KZOhw"
      }
    },
    {
      "cell_type": "code",
      "execution_count": 145,
      "metadata": {
        "id": "Zfu64x6ihKYH"
      },
      "outputs": [],
      "source": [
        "ls = []\n",
        "for i in range(gsheet.shape[0]):\n",
        "  s = \"{\"\n",
        "  flag = False\n",
        "  for tag in req:\n",
        "    if flag:\n",
        "      s += \",\"\n",
        "    s += f\"\"\"\"{tag[0]}\": \"{gsheet[tag[1]][i]}\" \"\"\"\n",
        "    flag = True\n",
        "  s += \"}\"\n",
        "  ls.append(s)\n",
        "\n",
        "ls_num = np.array(ls)"
      ]
    },
    {
      "cell_type": "code",
      "source": [
        "gsheet['JSONrequest'] = ls_num\n",
        "cols = gsheet.columns\n",
        "cols_order = np.concatenate((np.array(\"JSONrequest\"), cols[:-1]), axis=None)"
      ],
      "metadata": {
        "id": "9JLEap-5nR7q"
      },
      "execution_count": 146,
      "outputs": []
    },
    {
      "cell_type": "code",
      "source": [
        "file = \"getTransactionHistoryAdvc-sapi-uft-14-out.xlsx\""
      ],
      "metadata": {
        "id": "d0USsAYoqFk3"
      },
      "execution_count": 147,
      "outputs": []
    },
    {
      "cell_type": "code",
      "source": [
        "gsheet[cols_order].to_excel(file,sheet_name = \"Global\", index=False)"
      ],
      "metadata": {
        "id": "wBXHwoeCjeBQ"
      },
      "execution_count": 148,
      "outputs": []
    }
  ]
}