{
  "nbformat": 4,
  "nbformat_minor": 0,
  "metadata": {
    "colab": {
      "provenance": []
    },
    "kernelspec": {
      "name": "python3",
      "display_name": "Python 3"
    },
    "language_info": {
      "name": "python"
    }
  },
  "cells": [
    {
      "cell_type": "markdown",
      "source": [
        "⭕ Enter Necessary Info"
      ],
      "metadata": {
        "id": "GoiBsNKWxdF2"
      }
    },
    {
      "cell_type": "code",
      "source": [
        "apiname = 'transactionHistoryMultiAccounts'\n",
        "start = 0\n",
        "end = 9"
      ],
      "metadata": {
        "id": "guGHV-StxFVf"
      },
      "execution_count": 70,
      "outputs": []
    },
    {
      "cell_type": "markdown",
      "source": [
        "⭕ Data to be Prepare"
      ],
      "metadata": {
        "id": "VDfshipXyQ4H"
      }
    },
    {
      "cell_type": "code",
      "execution_count": 71,
      "metadata": {
        "id": "JvL2K_rgnW_2"
      },
      "outputs": [],
      "source": [
        "data = [\n",
        "    [('respCode', 'Exp_ResponseCode'), ('respDesc', 'Exp_ResponseDesc'),\n",
        "     ('consumedLimit', 'Exp_ConsumedLimit')],\n",
        "    {\n",
        "        'Verify_Card_Balance': [['req_cardNo']],\n",
        "        'Verify_Trans_Requests': [['given_transId'], ('remaining_balance', 'exp_remainingBalance'), ('available_balance', 'exp_availableBalance')],\n",
        "        'Verify_Trans_Request1s': [['given_transId'], ('credit_limit_1', 'exp_creditLimit_1s'), ('cash_adv_limit', 'exp_cashAdvLimit'), ('card_balance', 'exp_cardBalance'), ('ledger_balance', 'exp_ledgerBalance')],\n",
        "        'Verify_CreditCardAttrs': [['req_cardNo'], ('credit_limit_2', 'exp_creditLimit2'), ('ch_credit_limit', 'exp_chcreditLimit')]\n",
        "    }\n",
        "]"
      ]
    },
    {
      "cell_type": "markdown",
      "source": [
        "⭕ Queries"
      ],
      "metadata": {
        "id": "FUyxQeU3ypaj"
      }
    },
    {
      "cell_type": "code",
      "source": [
        "queries = {'Verify_Card_Balance': 'select * from card_funds where card_no = ?;',\n",
        "           'Verify_Trans_Requests': 'select remaining_balance,available_balance from trans_requests where trace_audit_no = ?;',\n",
        "           'Verify_Trans_Request1s': 'select credit_limit as credit_limit_1,cash_adv_limit,card_balance,ledger_balance from trans_request1s where trace_audit_no = ?;',\n",
        "           'Verify_CreditCardAttrs': 'select credit_limit as credit_limit_2,ch_credit_limit from card_credit_attrs where card_srno in (select card_srno from cards where card_no = ?);'}"
      ],
      "metadata": {
        "id": "4UXOw_-tnkHv"
      },
      "execution_count": 72,
      "outputs": []
    },
    {
      "cell_type": "markdown",
      "source": [
        "▶ Run All"
      ],
      "metadata": {
        "id": "dGjT9ZXIyus4"
      }
    },
    {
      "cell_type": "code",
      "source": [
        "def make_dbCheckpointMapping(data, queries):\n",
        "  \"\"\"returns dbCheckpointMapping\"\"\"\n",
        "  s = ''\n",
        "  d = {}\n",
        "  for obj in data:\n",
        "    if type(obj) == dict:\n",
        "      d = obj\n",
        "  for checkpoints in d:\n",
        "    p  = [i for i in d[checkpoints] if type(i) == list]\n",
        "    p = sum(p, [])\n",
        "    meta = [i[1] for i in p if type(i) == tuple]\n",
        "    p = [i[1] if type(i) == tuple else i for i in p]\n",
        "    if p:\n",
        "      s += f\"\"\"        {checkpoints}: {{\n",
        "              query: '{queries[checkpoints]}',\n",
        "              params: {p},\n",
        "        \"\"\"\n",
        "      if meta:\n",
        "        for m in meta:\n",
        "          s += f\"\"\"  meta: {{\n",
        "                {m}: SOURCE[0],\n",
        "        \"\"\"\n",
        "      s += \"\"\"},\\n\"\"\"\n",
        "  return s"
      ],
      "metadata": {
        "id": "_tDNp8pfshVd"
      },
      "execution_count": 73,
      "outputs": []
    },
    {
      "cell_type": "code",
      "source": [
        "def getonecheckpoint(l, key='enter db checkpoint', isdict=True):\n",
        "    \"\"\"returns string in expected format\"\"\"\n",
        "    s = \"\" \n",
        "    actual = excepted = \"\"\n",
        "    p  = [i for i in l if type(i) == list]\n",
        "    p = sum(p, [])\n",
        "    for el in l:\n",
        "      actual, excepted = getactandexp(el)\n",
        "      if not actual:\n",
        "        continue\n",
        "      s += f\"\"\"        {actual}: {{\n",
        "          checkPointValueColumn: '{excepted}',\"\"\"\n",
        "      if isdict:\n",
        "        if p:\n",
        "          s += f\"\"\"\n",
        "          dbCheckPointName: '{key}'\"\"\"\n",
        "        else:\n",
        "          s += f\"\"\"\n",
        "          outputCheckPointName: '{key}'\"\"\"\n",
        "      s += \"\"\"\\n        },\\n\"\"\"\n",
        "    return s"
      ],
      "metadata": {
        "id": "Klrn80_1bdi2"
      },
      "execution_count": 74,
      "outputs": []
    },
    {
      "cell_type": "code",
      "source": [
        "def make_verificationMap(data):\n",
        "  \"\"\"retruns verficationMap\"\"\"\n",
        "  s = \"\"\n",
        "  for obj in data:\n",
        "    l = []\n",
        "    d = {}\n",
        "    if type(obj) == list:\n",
        "      l = obj\n",
        "    elif type(obj) == dict:\n",
        "      d = obj\n",
        "    s += getonecheckpoint(l, isdict=False)\n",
        "    for key in d:\n",
        "      s += getonecheckpoint(d[key], key=key)\n",
        "  return s"
      ],
      "metadata": {
        "id": "Wxx0dejMLqd-"
      },
      "execution_count": 75,
      "outputs": []
    },
    {
      "cell_type": "code",
      "source": [
        "def getactandexp(obj):\n",
        "  \"\"\"return actual and expected\"\"\"\n",
        "  actual = expected = ''\n",
        "  if type(obj) == list:\n",
        "    return None, None\n",
        "  if type(obj) == tuple:\n",
        "    actual, expected = obj\n",
        "  else:\n",
        "    actual = expected = obj\n",
        "  return actual, expected"
      ],
      "metadata": {
        "id": "hEZ8ksermpun"
      },
      "execution_count": 76,
      "outputs": []
    },
    {
      "cell_type": "code",
      "source": [
        "import numpy as np\n",
        "def makecheckpoints(data):\n",
        "  \"\"\"return output and db check points\"\"\"\n",
        "  def allcheckpoint(lis):\n",
        "    \"\"\"return all check point\"\"\"\n",
        "    result = []\n",
        "    for el in lis:\n",
        "      actual, expected = getactandexp(el)\n",
        "      if actual:\n",
        "        result.append(actual)\n",
        "    return result\n",
        "  out, db = [], []\n",
        "  for obj in data:\n",
        "    l = []\n",
        "    d = {}\n",
        "    if type(obj) == list:\n",
        "      out = allcheckpoint(obj)\n",
        "    elif type(obj) == dict:\n",
        "      for key in obj:\n",
        "        db.append(allcheckpoint(obj[key]))\n",
        "    db_result = []\n",
        "    [db_result.append(j) for i in db for j in i]\n",
        "  return out, db_result"
      ],
      "metadata": {
        "id": "cEkybbF0jTmZ"
      },
      "execution_count": 77,
      "outputs": []
    },
    {
      "cell_type": "code",
      "source": [
        "def letsmake(api=apiname, start=start, end=end):\n",
        "  \"\"\"return config.js\"\"\"\n",
        "  output, db = makecheckpoints(data)\n",
        "  s = 'const SOURCES = [\"res\", \"defaultSheet\"];\\n'\n",
        "  s += f\"\"\"const config = {{\n",
        "    apiName: \"{api}\",\n",
        "    START_TEST_CASE: {start},\n",
        "    END_TEST_CASE: {end},\n",
        "    dbCheckpointNames: {db},\n",
        "    outputCheckpointNames: {output},\n",
        "    dbCheckpointMapping: {{\n",
        "{make_dbCheckpointMapping(data, queries)}    }},\n",
        "    verificationMap: {{\n",
        "{make_verificationMap(data)}    }},\n",
        "}};\"\"\"\n",
        "  return s\n",
        "s = letsmake()\n",
        "s += f\"\"\"\n",
        "export default config;\"\"\"\n",
        "s"
      ],
      "metadata": {
        "colab": {
          "base_uri": "https://localhost:8080/",
          "height": 143
        },
        "id": "U9QUxAzhptuE",
        "outputId": "7a86e1d1-5821-4bde-c90c-eaf64b49d66c"
      },
      "execution_count": 78,
      "outputs": [
        {
          "output_type": "execute_result",
          "data": {
            "text/plain": [
              "'const SOURCES = [\"res\", \"defaultSheet\"];\\nconst config = {\\n    apiName: \"transactionHistoryMultiAccounts\",\\n    START_TEST_CASE: 0,\\n    END_TEST_CASE: 9,\\n    dbCheckpointNames: [\\'remaining_balance\\', \\'available_balance\\', \\'credit_limit_1\\', \\'cash_adv_limit\\', \\'card_balance\\', \\'ledger_balance\\', \\'credit_limit_2\\', \\'ch_credit_limit\\'],\\n    outputCheckpointNames: [\\'respCode\\', \\'respDesc\\', \\'consumedLimit\\'],\\n    dbCheckpointMapping: {\\n        Verify_Card_Balance: {\\n              query: \\'select * from card_funds where card_no = ?;\\',\\n              params: [\\'req_cardNo\\'],\\n        },\\n        Verify_Trans_Requests: {\\n              query: \\'select remaining_balance,available_balance from trans_requests where trace_audit_no = ?;\\',\\n              params: [\\'given_transId\\'],\\n        },\\n        Verify_Trans_Request1s: {\\n              query: \\'select credit_limit as credit_limit_1,cash_adv_limit,card_balance,ledger_balance from trans_request1s where trace_audit_no = ?;\\',\\n              params: [\\'given_transId\\'],\\n        },\\n        Verify_CreditCardAttrs: {\\n              query: \\'select credit_limit as credit_limit_2,ch_credit_limit from card_credit_attrs where card_srno in (select card_srno from cards where card_no = ?);\\',\\n              params: [\\'req_cardNo\\'],\\n        },\\n    },\\n    verificationMap: {\\n        respCode: {\\n          checkPointValueColumn: \\'Exp_ResponseCode\\',\\n        },\\n        respDesc: {\\n          checkPointValueColumn: \\'Exp_ResponseDesc\\',\\n        },\\n        consumedLimit: {\\n          checkPointValueColumn: \\'Exp_ConsumedLimit\\',\\n        },\\n        remaining_balance: {\\n          checkPointValueColumn: \\'exp_remainingBalance\\',\\n          dbCheckPointName: \\'Verify_Trans_Requests\\'\\n        },\\n        available_balance: {\\n          checkPointValueColumn: \\'exp_availableBalance\\',\\n          dbCheckPointName: \\'Verify_Trans_Requests\\'\\n        },\\n        credit_limit_1: {\\n          checkPointValueColumn: \\'exp_creditLimit_1s\\',\\n          dbCheckPointName: \\'Verify_Trans_Request1s\\'\\n        },\\n        cash_adv_limit: {\\n          checkPointValueColumn: \\'exp_cashAdvLimit\\',\\n          dbCheckPointName: \\'Verify_Trans_Request1s\\'\\n        },\\n        card_balance: {\\n          checkPointValueColumn: \\'exp_cardBalance\\',\\n          dbCheckPointName: \\'Verify_Trans_Request1s\\'\\n        },\\n        ledger_balance: {\\n          checkPointValueColumn: \\'exp_ledgerBalance\\',\\n          dbCheckPointName: \\'Verify_Trans_Request1s\\'\\n        },\\n        credit_limit_2: {\\n          checkPointValueColumn: \\'exp_creditLimit2\\',\\n          dbCheckPointName: \\'Verify_CreditCardAttrs\\'\\n        },\\n        ch_credit_limit: {\\n          checkPointValueColumn: \\'exp_chcreditLimit\\',\\n          dbCheckPointName: \\'Verify_CreditCardAttrs\\'\\n        },\\n    },\\n};\\nexport default config;'"
            ],
            "application/vnd.google.colaboratory.intrinsic+json": {
              "type": "string"
            }
          },
          "metadata": {},
          "execution_count": 78
        }
      ]
    }
  ]
}