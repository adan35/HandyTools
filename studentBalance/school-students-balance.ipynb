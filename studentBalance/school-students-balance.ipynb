{
 "cells": [
  {
   "attachments": {},
   "cell_type": "markdown",
   "metadata": {},
   "source": [
    "### Important Imports"
   ]
  },
  {
   "cell_type": "code",
   "execution_count": 2,
   "metadata": {},
   "outputs": [],
   "source": [
    "import numpy as np\n",
    "import pandas as pd\n",
    "import matplotlib.pyplot as plt"
   ]
  },
  {
   "attachments": {},
   "cell_type": "markdown",
   "metadata": {},
   "source": [
    "### First Table"
   ]
  },
  {
   "cell_type": "code",
   "execution_count": 3,
   "metadata": {},
   "outputs": [
    {
     "data": {
      "text/html": [
       "<div>\n",
       "<style scoped>\n",
       "    .dataframe tbody tr th:only-of-type {\n",
       "        vertical-align: middle;\n",
       "    }\n",
       "\n",
       "    .dataframe tbody tr th {\n",
       "        vertical-align: top;\n",
       "    }\n",
       "\n",
       "    .dataframe thead th {\n",
       "        text-align: right;\n",
       "    }\n",
       "</style>\n",
       "<table border=\"1\" class=\"dataframe\">\n",
       "  <thead>\n",
       "    <tr style=\"text-align: right;\">\n",
       "      <th></th>\n",
       "      <th>RegNo</th>\n",
       "      <th>DOAd</th>\n",
       "      <th>FamilyNo</th>\n",
       "      <th>RollNo</th>\n",
       "      <th>StudentName</th>\n",
       "      <th>FatherName</th>\n",
       "      <th>DOB</th>\n",
       "      <th>Cast</th>\n",
       "      <th>ClassName</th>\n",
       "      <th>SecName</th>\n",
       "      <th>FCNIC</th>\n",
       "      <th>BForm</th>\n",
       "      <th>AddFormNo</th>\n",
       "      <th>Religion</th>\n",
       "      <th>FatherNo</th>\n",
       "      <th>MotherNo</th>\n",
       "      <th>Gender</th>\n",
       "      <th>Medium</th>\n",
       "      <th>Address</th>\n",
       "      <th>FeeType</th>\n",
       "    </tr>\n",
       "  </thead>\n",
       "  <tbody>\n",
       "    <tr>\n",
       "      <th>0</th>\n",
       "      <td>F6462</td>\n",
       "      <td>2022-07-27</td>\n",
       "      <td>2351</td>\n",
       "      <td>1</td>\n",
       "      <td>MUHAMMAD UMER</td>\n",
       "      <td>TOUQEER AHMAD</td>\n",
       "      <td>2020-03-10</td>\n",
       "      <td>MUGHAL</td>\n",
       "      <td>PLAY GROUP</td>\n",
       "      <td>JINNAH</td>\n",
       "      <td>35201-8245663-5</td>\n",
       "      <td>NaN</td>\n",
       "      <td>F6462</td>\n",
       "      <td>MUSLIM</td>\n",
       "      <td>03224516687</td>\n",
       "      <td>3.234547e+09</td>\n",
       "      <td>MALE</td>\n",
       "      <td>ENGLISH</td>\n",
       "      <td>SITARA COLONY # 2 C A S LAHORE</td>\n",
       "      <td>FEE PAYING</td>\n",
       "    </tr>\n",
       "    <tr>\n",
       "      <th>1</th>\n",
       "      <td>F6508</td>\n",
       "      <td>2022-08-18</td>\n",
       "      <td>2379</td>\n",
       "      <td>2</td>\n",
       "      <td>SHABRAIZ</td>\n",
       "      <td>MUHAMMAD NAWAZ</td>\n",
       "      <td>2019-07-11</td>\n",
       "      <td>AWAN</td>\n",
       "      <td>PLAY GROUP</td>\n",
       "      <td>JINNAH</td>\n",
       "      <td>35201-3924383-7</td>\n",
       "      <td>NaN</td>\n",
       "      <td>F6508</td>\n",
       "      <td>MUSLIM</td>\n",
       "      <td>03216189735</td>\n",
       "      <td>3.216568e+09</td>\n",
       "      <td>MALE</td>\n",
       "      <td>ENGLISH</td>\n",
       "      <td>MUHALA SITARA COLONY # 2 PIND BANDIAWALA C A S...</td>\n",
       "      <td>FEE PAYING</td>\n",
       "    </tr>\n",
       "    <tr>\n",
       "      <th>2</th>\n",
       "      <td>F6539</td>\n",
       "      <td>2022-09-20</td>\n",
       "      <td>1810</td>\n",
       "      <td>3</td>\n",
       "      <td>ALI HASSAN</td>\n",
       "      <td>MUHAMMAD ASIF ALI</td>\n",
       "      <td>2018-06-29</td>\n",
       "      <td>MALIK</td>\n",
       "      <td>PLAY GROUP</td>\n",
       "      <td>JINNAH</td>\n",
       "      <td>35201-2896840-9</td>\n",
       "      <td>NaN</td>\n",
       "      <td>F6539</td>\n",
       "      <td>MUSLIM</td>\n",
       "      <td>03214857605</td>\n",
       "      <td>3.214858e+09</td>\n",
       "      <td>MALE</td>\n",
       "      <td>ENGLISH</td>\n",
       "      <td>SITTARA COLONY #2 HASHMI ST C A S LAHORE</td>\n",
       "      <td>50% DISCOUNT</td>\n",
       "    </tr>\n",
       "    <tr>\n",
       "      <th>3</th>\n",
       "      <td>F6542</td>\n",
       "      <td>2022-09-26</td>\n",
       "      <td>2398</td>\n",
       "      <td>4</td>\n",
       "      <td>MUHAMMAD HAROON</td>\n",
       "      <td>QAMAR IQBAL</td>\n",
       "      <td>2017-07-08</td>\n",
       "      <td>NaN</td>\n",
       "      <td>PLAY GROUP</td>\n",
       "      <td>JINNAH</td>\n",
       "      <td>35201-5240504-5</td>\n",
       "      <td>NaN</td>\n",
       "      <td>F6542</td>\n",
       "      <td>MUSLIM</td>\n",
       "      <td>03234576092</td>\n",
       "      <td>3.044801e+09</td>\n",
       "      <td>MALE</td>\n",
       "      <td>ENGLISH</td>\n",
       "      <td>SITARA COLONY # 2 MUGHAL STREET C A S LAHORE</td>\n",
       "      <td>FEE PAYING</td>\n",
       "    </tr>\n",
       "    <tr>\n",
       "      <th>4</th>\n",
       "      <td>F6543</td>\n",
       "      <td>2022-09-26</td>\n",
       "      <td>2398</td>\n",
       "      <td>5</td>\n",
       "      <td>AROOJ FATIMA</td>\n",
       "      <td>QAMAR IQBAL</td>\n",
       "      <td>1900-01-01</td>\n",
       "      <td>MUGHAL</td>\n",
       "      <td>PLAY GROUP</td>\n",
       "      <td>JINNAH</td>\n",
       "      <td>35201-5240404-5</td>\n",
       "      <td>NaN</td>\n",
       "      <td>F6543</td>\n",
       "      <td>MUSLIM</td>\n",
       "      <td>03234576092</td>\n",
       "      <td>3.044801e+09</td>\n",
       "      <td>FEMALE</td>\n",
       "      <td>ENGLISH</td>\n",
       "      <td>SITARA COLONY # 2 MUGHAL STREET C A S LAHORE</td>\n",
       "      <td>FEE PAYING</td>\n",
       "    </tr>\n",
       "  </tbody>\n",
       "</table>\n",
       "</div>"
      ],
      "text/plain": [
       "   RegNo       DOAd  FamilyNo  RollNo      StudentName         FatherName  \\\n",
       "0  F6462 2022-07-27      2351       1    MUHAMMAD UMER      TOUQEER AHMAD   \n",
       "1  F6508 2022-08-18      2379       2         SHABRAIZ     MUHAMMAD NAWAZ   \n",
       "2  F6539 2022-09-20      1810       3       ALI HASSAN  MUHAMMAD ASIF ALI   \n",
       "3  F6542 2022-09-26      2398       4  MUHAMMAD HAROON        QAMAR IQBAL   \n",
       "4  F6543 2022-09-26      2398       5     AROOJ FATIMA        QAMAR IQBAL   \n",
       "\n",
       "         DOB    Cast   ClassName SecName            FCNIC BForm AddFormNo  \\\n",
       "0 2020-03-10  MUGHAL  PLAY GROUP  JINNAH  35201-8245663-5   NaN     F6462   \n",
       "1 2019-07-11    AWAN  PLAY GROUP  JINNAH  35201-3924383-7   NaN     F6508   \n",
       "2 2018-06-29   MALIK  PLAY GROUP  JINNAH  35201-2896840-9   NaN     F6539   \n",
       "3 2017-07-08     NaN  PLAY GROUP  JINNAH  35201-5240504-5   NaN     F6542   \n",
       "4 1900-01-01  MUGHAL  PLAY GROUP  JINNAH  35201-5240404-5   NaN     F6543   \n",
       "\n",
       "  Religion     FatherNo      MotherNo  Gender   Medium  \\\n",
       "0   MUSLIM  03224516687  3.234547e+09    MALE  ENGLISH   \n",
       "1   MUSLIM  03216189735  3.216568e+09    MALE  ENGLISH   \n",
       "2   MUSLIM  03214857605  3.214858e+09    MALE  ENGLISH   \n",
       "3   MUSLIM  03234576092  3.044801e+09    MALE  ENGLISH   \n",
       "4   MUSLIM  03234576092  3.044801e+09  FEMALE  ENGLISH   \n",
       "\n",
       "                                             Address       FeeType  \n",
       "0                     SITARA COLONY # 2 C A S LAHORE    FEE PAYING  \n",
       "1  MUHALA SITARA COLONY # 2 PIND BANDIAWALA C A S...    FEE PAYING  \n",
       "2           SITTARA COLONY #2 HASHMI ST C A S LAHORE  50% DISCOUNT  \n",
       "3       SITARA COLONY # 2 MUGHAL STREET C A S LAHORE    FEE PAYING  \n",
       "4       SITARA COLONY # 2 MUGHAL STREET C A S LAHORE    FEE PAYING  "
      ]
     },
     "execution_count": 3,
     "metadata": {},
     "output_type": "execute_result"
    }
   ],
   "source": [
    "students_data = pd.read_excel('datasets/Student Data From Database.xlsx')\n",
    "students_data.head()"
   ]
  },
  {
   "cell_type": "code",
   "execution_count": 4,
   "metadata": {},
   "outputs": [
    {
     "data": {
      "text/plain": [
       "(1633, 20)"
      ]
     },
     "execution_count": 4,
     "metadata": {},
     "output_type": "execute_result"
    }
   ],
   "source": [
    "students_data.shape"
   ]
  },
  {
   "attachments": {},
   "cell_type": "markdown",
   "metadata": {},
   "source": [
    "### Second Table"
   ]
  },
  {
   "cell_type": "code",
   "execution_count": 5,
   "metadata": {},
   "outputs": [
    {
     "data": {
      "text/html": [
       "<div>\n",
       "<style scoped>\n",
       "    .dataframe tbody tr th:only-of-type {\n",
       "        vertical-align: middle;\n",
       "    }\n",
       "\n",
       "    .dataframe tbody tr th {\n",
       "        vertical-align: top;\n",
       "    }\n",
       "\n",
       "    .dataframe thead th {\n",
       "        text-align: right;\n",
       "    }\n",
       "</style>\n",
       "<table border=\"1\" class=\"dataframe\">\n",
       "  <thead>\n",
       "    <tr style=\"text-align: right;\">\n",
       "      <th></th>\n",
       "      <th>Sr. #</th>\n",
       "      <th>FamilyNo</th>\n",
       "      <th>Unnamed: 2</th>\n",
       "      <th>Total Family Balance</th>\n",
       "      <th>StudentName</th>\n",
       "      <th>Father Name Mobile #</th>\n",
       "      <th>Total Student Balance</th>\n",
       "      <th>Last Paid Date</th>\n",
       "      <th>Unnamed: 8</th>\n",
       "      <th>Remarks</th>\n",
       "    </tr>\n",
       "  </thead>\n",
       "  <tbody>\n",
       "    <tr>\n",
       "      <th>0</th>\n",
       "      <td>1</td>\n",
       "      <td>1072</td>\n",
       "      <td>(3)</td>\n",
       "      <td>0</td>\n",
       "      <td>SARIA HUSNAIN</td>\n",
       "      <td>MUHAMMAD HUSNAIN\\n03016762316 03224084491</td>\n",
       "      <td>400</td>\n",
       "      <td>2023-06-12 00:00:00</td>\n",
       "      <td>-1400.0</td>\n",
       "      <td>NaN</td>\n",
       "    </tr>\n",
       "    <tr>\n",
       "      <th>1</th>\n",
       "      <td>2</td>\n",
       "      <td>800</td>\n",
       "      <td>(4)</td>\n",
       "      <td>4500</td>\n",
       "      <td>ADEESHA NOOR</td>\n",
       "      <td>SHOUKAT ALI\\n03026033262</td>\n",
       "      <td>1700</td>\n",
       "      <td>2023-06-12 00:00:00</td>\n",
       "      <td>-2500.0</td>\n",
       "      <td>NaN</td>\n",
       "    </tr>\n",
       "    <tr>\n",
       "      <th>2</th>\n",
       "      <td>3</td>\n",
       "      <td>1231</td>\n",
       "      <td>(3)</td>\n",
       "      <td>2500</td>\n",
       "      <td>JASHFA</td>\n",
       "      <td>ALI ASGHAR\\n03064730813 03054130399</td>\n",
       "      <td>1700</td>\n",
       "      <td>2023-06-08 00:00:00</td>\n",
       "      <td>-533.0</td>\n",
       "      <td>NaN</td>\n",
       "    </tr>\n",
       "    <tr>\n",
       "      <th>3</th>\n",
       "      <td>4</td>\n",
       "      <td>1308</td>\n",
       "      <td>(2)</td>\n",
       "      <td>12660</td>\n",
       "      <td>SANIA</td>\n",
       "      <td>JAVED\\n03062997511</td>\n",
       "      <td>6800</td>\n",
       "      <td>2023-05-22 00:00:00</td>\n",
       "      <td>-5000.0</td>\n",
       "      <td>NaN</td>\n",
       "    </tr>\n",
       "    <tr>\n",
       "      <th>4</th>\n",
       "      <td>5</td>\n",
       "      <td>2122</td>\n",
       "      <td>(4)</td>\n",
       "      <td>5700</td>\n",
       "      <td>MINAHIL SHABBIR</td>\n",
       "      <td>MUHAMMAD SHABBIR\\n03234800581 03013116511</td>\n",
       "      <td>1700</td>\n",
       "      <td>2023-05-15 00:00:00</td>\n",
       "      <td>-1925.0</td>\n",
       "      <td>NaN</td>\n",
       "    </tr>\n",
       "  </tbody>\n",
       "</table>\n",
       "</div>"
      ],
      "text/plain": [
       "   Sr. # FamilyNo Unnamed: 2  Total Family Balance      StudentName  \\\n",
       "0      1     1072        (3)                     0    SARIA HUSNAIN   \n",
       "1      2      800        (4)                  4500     ADEESHA NOOR   \n",
       "2      3     1231        (3)                  2500           JASHFA   \n",
       "3      4     1308        (2)                 12660            SANIA   \n",
       "4      5     2122        (4)                  5700  MINAHIL SHABBIR   \n",
       "\n",
       "                        Father Name Mobile #  Total Student Balance  \\\n",
       "0  MUHAMMAD HUSNAIN\\n03016762316 03224084491                    400   \n",
       "1                   SHOUKAT ALI\\n03026033262                   1700   \n",
       "2        ALI ASGHAR\\n03064730813 03054130399                   1700   \n",
       "3                         JAVED\\n03062997511                   6800   \n",
       "4  MUHAMMAD SHABBIR\\n03234800581 03013116511                   1700   \n",
       "\n",
       "        Last Paid Date  Unnamed: 8  Remarks  \n",
       "0  2023-06-12 00:00:00     -1400.0      NaN  \n",
       "1  2023-06-12 00:00:00     -2500.0      NaN  \n",
       "2  2023-06-08 00:00:00      -533.0      NaN  \n",
       "3  2023-05-22 00:00:00     -5000.0      NaN  \n",
       "4  2023-05-15 00:00:00     -1925.0      NaN  "
      ]
     },
     "execution_count": 5,
     "metadata": {},
     "output_type": "execute_result"
    }
   ],
   "source": [
    "girls_branch = pd.read_excel('datasets/girlsbranchunpaid-cleaned.xlsx')\n",
    "girls_branch.head()"
   ]
  },
  {
   "attachments": {},
   "cell_type": "markdown",
   "metadata": {},
   "source": [
    "### Cleaning the Dataset"
   ]
  },
  {
   "cell_type": "code",
   "execution_count": 6,
   "metadata": {},
   "outputs": [],
   "source": [
    "lst = []\n",
    "for girls_family_no in girls_branch['FamilyNo']:\n",
    "    l = ''\n",
    "    for letter in str(girls_family_no):\n",
    "        if '(' in letter:\n",
    "            break\n",
    "        l += letter\n",
    "    lst.append(l)\n",
    "result = np.array(lst).astype('int')"
   ]
  },
  {
   "cell_type": "code",
   "execution_count": 7,
   "metadata": {},
   "outputs": [
    {
     "name": "stderr",
     "output_type": "stream",
     "text": [
      "C:\\Users\\PC\\AppData\\Local\\Temp\\ipykernel_21292\\336998636.py:1: FutureWarning: In a future version, `df.iloc[:, i] = newvals` will attempt to set the values inplace instead of always setting a new array. To retain the old behavior, use either `df[df.columns[i]] = newvals` or, if columns are non-unique, `df.isetitem(i, newvals)`\n",
      "  girls_branch.loc[:, 'FamilyNo'] = result\n"
     ]
    }
   ],
   "source": [
    "girls_branch.loc[:, 'FamilyNo'] = result"
   ]
  },
  {
   "cell_type": "code",
   "execution_count": 8,
   "metadata": {},
   "outputs": [
    {
     "data": {
      "text/plain": [
       "(136, 10)"
      ]
     },
     "execution_count": 8,
     "metadata": {},
     "output_type": "execute_result"
    }
   ],
   "source": [
    "girls_branch.shape"
   ]
  },
  {
   "cell_type": "code",
   "execution_count": 9,
   "metadata": {},
   "outputs": [
    {
     "data": {
      "text/plain": [
       "0"
      ]
     },
     "execution_count": 9,
     "metadata": {},
     "output_type": "execute_result"
    }
   ],
   "source": [
    "girls_branch['Total Student Balance'].isna().sum()"
   ]
  },
  {
   "attachments": {},
   "cell_type": "markdown",
   "metadata": {},
   "source": [
    "### Third Table"
   ]
  },
  {
   "cell_type": "code",
   "execution_count": 10,
   "metadata": {},
   "outputs": [
    {
     "data": {
      "text/html": [
       "<div>\n",
       "<style scoped>\n",
       "    .dataframe tbody tr th:only-of-type {\n",
       "        vertical-align: middle;\n",
       "    }\n",
       "\n",
       "    .dataframe tbody tr th {\n",
       "        vertical-align: top;\n",
       "    }\n",
       "\n",
       "    .dataframe thead th {\n",
       "        text-align: right;\n",
       "    }\n",
       "</style>\n",
       "<table border=\"1\" class=\"dataframe\">\n",
       "  <thead>\n",
       "    <tr style=\"text-align: right;\">\n",
       "      <th></th>\n",
       "      <th>Sr. #</th>\n",
       "      <th>FamilyNo</th>\n",
       "      <th>Unnamed: 2</th>\n",
       "      <th>Total Family Balance</th>\n",
       "      <th>StudentName</th>\n",
       "      <th>Father Name Mobile #</th>\n",
       "      <th>Total Student Balance</th>\n",
       "      <th>Last Paid Date</th>\n",
       "      <th>Unnamed: 8</th>\n",
       "      <th>Remarks</th>\n",
       "    </tr>\n",
       "  </thead>\n",
       "  <tbody>\n",
       "    <tr>\n",
       "      <th>0</th>\n",
       "      <td>1</td>\n",
       "      <td>1810</td>\n",
       "      <td>(3)</td>\n",
       "      <td>14600.0</td>\n",
       "      <td>ALI HASSAN</td>\n",
       "      <td>MUHAMMAD ASIF ALI\\n03214857605 03214857605</td>\n",
       "      <td>2600</td>\n",
       "      <td>2023-03-22 00:00:00</td>\n",
       "      <td>-15000.0</td>\n",
       "      <td>NaN</td>\n",
       "    </tr>\n",
       "    <tr>\n",
       "      <th>1</th>\n",
       "      <td>2</td>\n",
       "      <td>2402</td>\n",
       "      <td>(1)</td>\n",
       "      <td>3300.0</td>\n",
       "      <td>URWA AMIR</td>\n",
       "      <td>MUHAMMAD AMIR\\n03064736605 03219499458</td>\n",
       "      <td>3300</td>\n",
       "      <td>2023-05-11 00:00:00</td>\n",
       "      <td>-1500.0</td>\n",
       "      <td>NaN</td>\n",
       "    </tr>\n",
       "    <tr>\n",
       "      <th>2</th>\n",
       "      <td>3</td>\n",
       "      <td>2405</td>\n",
       "      <td>(1)</td>\n",
       "      <td>1600.0</td>\n",
       "      <td>ABDULLAH</td>\n",
       "      <td>SABIR ALI\\n03084840528</td>\n",
       "      <td>1600</td>\n",
       "      <td>2023-05-16 00:00:00</td>\n",
       "      <td>-1600.0</td>\n",
       "      <td>NaN</td>\n",
       "    </tr>\n",
       "    <tr>\n",
       "      <th>3</th>\n",
       "      <td>4</td>\n",
       "      <td>2067</td>\n",
       "      <td>(2)</td>\n",
       "      <td>3200.0</td>\n",
       "      <td>ANAM</td>\n",
       "      <td>MUHAMMAD NAVEED\\n03220742059 03214174285</td>\n",
       "      <td>1600</td>\n",
       "      <td>2023-05-02 00:00:00</td>\n",
       "      <td>-3200.0</td>\n",
       "      <td>NaN</td>\n",
       "    </tr>\n",
       "    <tr>\n",
       "      <th>4</th>\n",
       "      <td>5</td>\n",
       "      <td>2312</td>\n",
       "      <td>(2)</td>\n",
       "      <td>3200.0</td>\n",
       "      <td>NOOR HARAM</td>\n",
       "      <td>KHALIL AHMAD\\n03244582182 03018172716</td>\n",
       "      <td>1600</td>\n",
       "      <td>2023-05-15 00:00:00</td>\n",
       "      <td>-3200.0</td>\n",
       "      <td>NaN</td>\n",
       "    </tr>\n",
       "  </tbody>\n",
       "</table>\n",
       "</div>"
      ],
      "text/plain": [
       "   Sr. # FamilyNo Unnamed: 2  Total Family Balance StudentName  \\\n",
       "0      1     1810        (3)               14600.0  ALI HASSAN   \n",
       "1      2     2402        (1)                3300.0   URWA AMIR   \n",
       "2      3     2405        (1)                1600.0    ABDULLAH   \n",
       "3      4     2067        (2)                3200.0        ANAM   \n",
       "4      5     2312        (2)                3200.0  NOOR HARAM   \n",
       "\n",
       "                         Father Name Mobile #  Total Student Balance  \\\n",
       "0  MUHAMMAD ASIF ALI\\n03214857605 03214857605                   2600   \n",
       "1      MUHAMMAD AMIR\\n03064736605 03219499458                   3300   \n",
       "2                      SABIR ALI\\n03084840528                   1600   \n",
       "3    MUHAMMAD NAVEED\\n03220742059 03214174285                   1600   \n",
       "4       KHALIL AHMAD\\n03244582182 03018172716                   1600   \n",
       "\n",
       "        Last Paid Date  Unnamed: 8  Remarks  \n",
       "0  2023-03-22 00:00:00    -15000.0      NaN  \n",
       "1  2023-05-11 00:00:00     -1500.0      NaN  \n",
       "2  2023-05-16 00:00:00     -1600.0      NaN  \n",
       "3  2023-05-02 00:00:00     -3200.0      NaN  \n",
       "4  2023-05-15 00:00:00     -3200.0      NaN  "
      ]
     },
     "execution_count": 10,
     "metadata": {},
     "output_type": "execute_result"
    }
   ],
   "source": [
    "boys_branch = pd.read_excel('datasets/boysbranchunpaid-cleaned.xlsx', header=[1])\n",
    "boys_branch.head()"
   ]
  },
  {
   "attachments": {},
   "cell_type": "markdown",
   "metadata": {},
   "source": [
    "### Cleaning the Dataset"
   ]
  },
  {
   "cell_type": "code",
   "execution_count": 11,
   "metadata": {},
   "outputs": [],
   "source": [
    "lst = []\n",
    "for boys_family_no in boys_branch['FamilyNo']:\n",
    "    l = ''\n",
    "    for letter in str(boys_family_no):\n",
    "        if '(' in letter:\n",
    "            break\n",
    "        l += letter\n",
    "    lst.append(l)\n",
    "result = np.array(lst).astype('int')"
   ]
  },
  {
   "cell_type": "code",
   "execution_count": 12,
   "metadata": {},
   "outputs": [
    {
     "name": "stderr",
     "output_type": "stream",
     "text": [
      "C:\\Users\\PC\\AppData\\Local\\Temp\\ipykernel_21292\\3176391470.py:1: FutureWarning: In a future version, `df.iloc[:, i] = newvals` will attempt to set the values inplace instead of always setting a new array. To retain the old behavior, use either `df[df.columns[i]] = newvals` or, if columns are non-unique, `df.isetitem(i, newvals)`\n",
      "  boys_branch.loc[:, 'FamilyNo'] = result\n"
     ]
    }
   ],
   "source": [
    "boys_branch.loc[:, 'FamilyNo'] = result"
   ]
  },
  {
   "cell_type": "code",
   "execution_count": 13,
   "metadata": {},
   "outputs": [
    {
     "data": {
      "text/plain": [
       "(631, 10)"
      ]
     },
     "execution_count": 13,
     "metadata": {},
     "output_type": "execute_result"
    }
   ],
   "source": [
    "boys_branch.shape"
   ]
  },
  {
   "cell_type": "code",
   "execution_count": 14,
   "metadata": {},
   "outputs": [
    {
     "data": {
      "text/plain": [
       "0"
      ]
     },
     "execution_count": 14,
     "metadata": {},
     "output_type": "execute_result"
    }
   ],
   "source": [
    "boys_branch['Total Student Balance'].isna().sum()"
   ]
  },
  {
   "attachments": {},
   "cell_type": "markdown",
   "metadata": {},
   "source": [
    "### Merged Students and Girls Table"
   ]
  },
  {
   "cell_type": "code",
   "execution_count": 15,
   "metadata": {},
   "outputs": [
    {
     "data": {
      "text/plain": [
       "(136, 28)"
      ]
     },
     "execution_count": 15,
     "metadata": {},
     "output_type": "execute_result"
    }
   ],
   "source": [
    "students_and_girls_data = pd.merge(left=students_data, right=girls_branch, how='left', on=['FamilyNo', 'StudentName'])\n",
    "students_and_girls_data[~students_and_girls_data['Total Student Balance'].isna()].shape"
   ]
  },
  {
   "cell_type": "code",
   "execution_count": 16,
   "metadata": {},
   "outputs": [
    {
     "data": {
      "text/html": [
       "<div>\n",
       "<style scoped>\n",
       "    .dataframe tbody tr th:only-of-type {\n",
       "        vertical-align: middle;\n",
       "    }\n",
       "\n",
       "    .dataframe tbody tr th {\n",
       "        vertical-align: top;\n",
       "    }\n",
       "\n",
       "    .dataframe thead th {\n",
       "        text-align: right;\n",
       "    }\n",
       "</style>\n",
       "<table border=\"1\" class=\"dataframe\">\n",
       "  <thead>\n",
       "    <tr style=\"text-align: right;\">\n",
       "      <th></th>\n",
       "      <th>RegNo</th>\n",
       "      <th>DOAd</th>\n",
       "      <th>FamilyNo</th>\n",
       "      <th>RollNo</th>\n",
       "      <th>StudentName</th>\n",
       "      <th>FatherName</th>\n",
       "      <th>DOB</th>\n",
       "      <th>Cast</th>\n",
       "      <th>ClassName</th>\n",
       "      <th>SecName</th>\n",
       "      <th>...</th>\n",
       "      <th>BForm</th>\n",
       "      <th>AddFormNo</th>\n",
       "      <th>Religion</th>\n",
       "      <th>FatherNo</th>\n",
       "      <th>MotherNo</th>\n",
       "      <th>Gender</th>\n",
       "      <th>Medium</th>\n",
       "      <th>Address</th>\n",
       "      <th>FeeType</th>\n",
       "      <th>Total Student Balance</th>\n",
       "    </tr>\n",
       "  </thead>\n",
       "  <tbody>\n",
       "    <tr>\n",
       "      <th>0</th>\n",
       "      <td>F6462</td>\n",
       "      <td>2022-07-27</td>\n",
       "      <td>2351</td>\n",
       "      <td>1</td>\n",
       "      <td>MUHAMMAD UMER</td>\n",
       "      <td>TOUQEER AHMAD</td>\n",
       "      <td>2020-03-10</td>\n",
       "      <td>MUGHAL</td>\n",
       "      <td>PLAY GROUP</td>\n",
       "      <td>JINNAH</td>\n",
       "      <td>...</td>\n",
       "      <td>NaN</td>\n",
       "      <td>F6462</td>\n",
       "      <td>MUSLIM</td>\n",
       "      <td>03224516687</td>\n",
       "      <td>3.234547e+09</td>\n",
       "      <td>MALE</td>\n",
       "      <td>ENGLISH</td>\n",
       "      <td>SITARA COLONY # 2 C A S LAHORE</td>\n",
       "      <td>FEE PAYING</td>\n",
       "      <td>NaN</td>\n",
       "    </tr>\n",
       "    <tr>\n",
       "      <th>1</th>\n",
       "      <td>F6508</td>\n",
       "      <td>2022-08-18</td>\n",
       "      <td>2379</td>\n",
       "      <td>2</td>\n",
       "      <td>SHABRAIZ</td>\n",
       "      <td>MUHAMMAD NAWAZ</td>\n",
       "      <td>2019-07-11</td>\n",
       "      <td>AWAN</td>\n",
       "      <td>PLAY GROUP</td>\n",
       "      <td>JINNAH</td>\n",
       "      <td>...</td>\n",
       "      <td>NaN</td>\n",
       "      <td>F6508</td>\n",
       "      <td>MUSLIM</td>\n",
       "      <td>03216189735</td>\n",
       "      <td>3.216568e+09</td>\n",
       "      <td>MALE</td>\n",
       "      <td>ENGLISH</td>\n",
       "      <td>MUHALA SITARA COLONY # 2 PIND BANDIAWALA C A S...</td>\n",
       "      <td>FEE PAYING</td>\n",
       "      <td>NaN</td>\n",
       "    </tr>\n",
       "    <tr>\n",
       "      <th>2</th>\n",
       "      <td>F6539</td>\n",
       "      <td>2022-09-20</td>\n",
       "      <td>1810</td>\n",
       "      <td>3</td>\n",
       "      <td>ALI HASSAN</td>\n",
       "      <td>MUHAMMAD ASIF ALI</td>\n",
       "      <td>2018-06-29</td>\n",
       "      <td>MALIK</td>\n",
       "      <td>PLAY GROUP</td>\n",
       "      <td>JINNAH</td>\n",
       "      <td>...</td>\n",
       "      <td>NaN</td>\n",
       "      <td>F6539</td>\n",
       "      <td>MUSLIM</td>\n",
       "      <td>03214857605</td>\n",
       "      <td>3.214858e+09</td>\n",
       "      <td>MALE</td>\n",
       "      <td>ENGLISH</td>\n",
       "      <td>SITTARA COLONY #2 HASHMI ST C A S LAHORE</td>\n",
       "      <td>50% DISCOUNT</td>\n",
       "      <td>NaN</td>\n",
       "    </tr>\n",
       "    <tr>\n",
       "      <th>3</th>\n",
       "      <td>F6542</td>\n",
       "      <td>2022-09-26</td>\n",
       "      <td>2398</td>\n",
       "      <td>4</td>\n",
       "      <td>MUHAMMAD HAROON</td>\n",
       "      <td>QAMAR IQBAL</td>\n",
       "      <td>2017-07-08</td>\n",
       "      <td>NaN</td>\n",
       "      <td>PLAY GROUP</td>\n",
       "      <td>JINNAH</td>\n",
       "      <td>...</td>\n",
       "      <td>NaN</td>\n",
       "      <td>F6542</td>\n",
       "      <td>MUSLIM</td>\n",
       "      <td>03234576092</td>\n",
       "      <td>3.044801e+09</td>\n",
       "      <td>MALE</td>\n",
       "      <td>ENGLISH</td>\n",
       "      <td>SITARA COLONY # 2 MUGHAL STREET C A S LAHORE</td>\n",
       "      <td>FEE PAYING</td>\n",
       "      <td>NaN</td>\n",
       "    </tr>\n",
       "    <tr>\n",
       "      <th>4</th>\n",
       "      <td>F6543</td>\n",
       "      <td>2022-09-26</td>\n",
       "      <td>2398</td>\n",
       "      <td>5</td>\n",
       "      <td>AROOJ FATIMA</td>\n",
       "      <td>QAMAR IQBAL</td>\n",
       "      <td>1900-01-01</td>\n",
       "      <td>MUGHAL</td>\n",
       "      <td>PLAY GROUP</td>\n",
       "      <td>JINNAH</td>\n",
       "      <td>...</td>\n",
       "      <td>NaN</td>\n",
       "      <td>F6543</td>\n",
       "      <td>MUSLIM</td>\n",
       "      <td>03234576092</td>\n",
       "      <td>3.044801e+09</td>\n",
       "      <td>FEMALE</td>\n",
       "      <td>ENGLISH</td>\n",
       "      <td>SITARA COLONY # 2 MUGHAL STREET C A S LAHORE</td>\n",
       "      <td>FEE PAYING</td>\n",
       "      <td>NaN</td>\n",
       "    </tr>\n",
       "  </tbody>\n",
       "</table>\n",
       "<p>5 rows × 21 columns</p>\n",
       "</div>"
      ],
      "text/plain": [
       "   RegNo       DOAd  FamilyNo  RollNo      StudentName         FatherName  \\\n",
       "0  F6462 2022-07-27      2351       1    MUHAMMAD UMER      TOUQEER AHMAD   \n",
       "1  F6508 2022-08-18      2379       2         SHABRAIZ     MUHAMMAD NAWAZ   \n",
       "2  F6539 2022-09-20      1810       3       ALI HASSAN  MUHAMMAD ASIF ALI   \n",
       "3  F6542 2022-09-26      2398       4  MUHAMMAD HAROON        QAMAR IQBAL   \n",
       "4  F6543 2022-09-26      2398       5     AROOJ FATIMA        QAMAR IQBAL   \n",
       "\n",
       "         DOB    Cast   ClassName SecName  ... BForm AddFormNo Religion  \\\n",
       "0 2020-03-10  MUGHAL  PLAY GROUP  JINNAH  ...   NaN     F6462   MUSLIM   \n",
       "1 2019-07-11    AWAN  PLAY GROUP  JINNAH  ...   NaN     F6508   MUSLIM   \n",
       "2 2018-06-29   MALIK  PLAY GROUP  JINNAH  ...   NaN     F6539   MUSLIM   \n",
       "3 2017-07-08     NaN  PLAY GROUP  JINNAH  ...   NaN     F6542   MUSLIM   \n",
       "4 1900-01-01  MUGHAL  PLAY GROUP  JINNAH  ...   NaN     F6543   MUSLIM   \n",
       "\n",
       "      FatherNo      MotherNo  Gender   Medium  \\\n",
       "0  03224516687  3.234547e+09    MALE  ENGLISH   \n",
       "1  03216189735  3.216568e+09    MALE  ENGLISH   \n",
       "2  03214857605  3.214858e+09    MALE  ENGLISH   \n",
       "3  03234576092  3.044801e+09    MALE  ENGLISH   \n",
       "4  03234576092  3.044801e+09  FEMALE  ENGLISH   \n",
       "\n",
       "                                             Address       FeeType  \\\n",
       "0                     SITARA COLONY # 2 C A S LAHORE    FEE PAYING   \n",
       "1  MUHALA SITARA COLONY # 2 PIND BANDIAWALA C A S...    FEE PAYING   \n",
       "2           SITTARA COLONY #2 HASHMI ST C A S LAHORE  50% DISCOUNT   \n",
       "3       SITARA COLONY # 2 MUGHAL STREET C A S LAHORE    FEE PAYING   \n",
       "4       SITARA COLONY # 2 MUGHAL STREET C A S LAHORE    FEE PAYING   \n",
       "\n",
       "  Total Student Balance  \n",
       "0                   NaN  \n",
       "1                   NaN  \n",
       "2                   NaN  \n",
       "3                   NaN  \n",
       "4                   NaN  \n",
       "\n",
       "[5 rows x 21 columns]"
      ]
     },
     "execution_count": 16,
     "metadata": {},
     "output_type": "execute_result"
    }
   ],
   "source": [
    "columns = ['RegNo', 'DOAd', 'FamilyNo', 'RollNo', 'StudentName', 'FatherName',\n",
    "       'DOB', 'Cast', 'ClassName', 'SecName', 'FCNIC', 'BForm', 'AddFormNo',\n",
    "       'Religion', 'FatherNo', 'MotherNo', 'Gender', 'Medium', 'Address',\n",
    "       'FeeType', 'Total Student Balance']\n",
    "students_and_girls_data = students_and_girls_data[columns]\n",
    "students_and_girls_data.head()"
   ]
  },
  {
   "attachments": {},
   "cell_type": "markdown",
   "metadata": {},
   "source": [
    "### Missing Girls Data"
   ]
  },
  {
   "cell_type": "code",
   "execution_count": 17,
   "metadata": {},
   "outputs": [
    {
     "data": {
      "text/html": [
       "<div>\n",
       "<style scoped>\n",
       "    .dataframe tbody tr th:only-of-type {\n",
       "        vertical-align: middle;\n",
       "    }\n",
       "\n",
       "    .dataframe tbody tr th {\n",
       "        vertical-align: top;\n",
       "    }\n",
       "\n",
       "    .dataframe thead th {\n",
       "        text-align: right;\n",
       "    }\n",
       "</style>\n",
       "<table border=\"1\" class=\"dataframe\">\n",
       "  <thead>\n",
       "    <tr style=\"text-align: right;\">\n",
       "      <th></th>\n",
       "      <th>Sr. #</th>\n",
       "      <th>FamilyNo</th>\n",
       "      <th>Unnamed: 2</th>\n",
       "      <th>Total Family Balance</th>\n",
       "      <th>StudentName</th>\n",
       "      <th>Father Name Mobile #</th>\n",
       "      <th>Total Student Balance</th>\n",
       "      <th>Last Paid Date</th>\n",
       "      <th>Unnamed: 8</th>\n",
       "      <th>Remarks</th>\n",
       "    </tr>\n",
       "  </thead>\n",
       "  <tbody>\n",
       "  </tbody>\n",
       "</table>\n",
       "</div>"
      ],
      "text/plain": [
       "Empty DataFrame\n",
       "Columns: [Sr. #, FamilyNo, Unnamed: 2, Total Family Balance, StudentName, Father Name Mobile #, Total Student Balance, Last Paid Date, Unnamed: 8, Remarks]\n",
       "Index: []"
      ]
     },
     "execution_count": 17,
     "metadata": {},
     "output_type": "execute_result"
    }
   ],
   "source": [
    "family_no =  students_and_girls_data[~students_and_girls_data['Total Student Balance'].isna()]['FamilyNo']\n",
    "student_name =  students_and_girls_data[~students_and_girls_data['Total Student Balance'].isna()]['StudentName']\n",
    "condition = girls_branch['FamilyNo'].isin(family_no) \\\n",
    "              & girls_branch['StudentName'].isin(student_name)\n",
    "missing_girls = girls_branch[~condition]\n",
    "missing_girls"
   ]
  },
  {
   "attachments": {},
   "cell_type": "markdown",
   "metadata": {},
   "source": [
    "### Merge Students and Girls Table with Boys Table"
   ]
  },
  {
   "cell_type": "code",
   "execution_count": 18,
   "metadata": {},
   "outputs": [
    {
     "data": {
      "text/plain": [
       "(595, 29)"
      ]
     },
     "execution_count": 18,
     "metadata": {},
     "output_type": "execute_result"
    }
   ],
   "source": [
    "students_boys_and_girls_data = pd.merge(left=students_and_girls_data, right=boys_branch, how='left', on=['FamilyNo', 'StudentName'], suffixes=('', '_b'))\n",
    "students_boys_and_girls_data[~students_boys_and_girls_data['Total Student Balance_b'].isna()].shape"
   ]
  },
  {
   "cell_type": "code",
   "execution_count": 19,
   "metadata": {},
   "outputs": [
    {
     "data": {
      "text/plain": [
       "Index(['RegNo', 'DOAd', 'FamilyNo', 'RollNo', 'StudentName', 'FatherName',\n",
       "       'DOB', 'Cast', 'ClassName', 'SecName', 'FCNIC', 'BForm', 'AddFormNo',\n",
       "       'Religion', 'FatherNo', 'MotherNo', 'Gender', 'Medium', 'Address',\n",
       "       'FeeType', 'Total Student Balance', 'Sr. #', 'Unnamed: 2',\n",
       "       'Total Family Balance', 'Father Name Mobile #',\n",
       "       'Total Student Balance_b', 'Last Paid Date', 'Unnamed: 8', 'Remarks'],\n",
       "      dtype='object')"
      ]
     },
     "execution_count": 19,
     "metadata": {},
     "output_type": "execute_result"
    }
   ],
   "source": [
    "students_boys_and_girls_data.columns"
   ]
  },
  {
   "cell_type": "code",
   "execution_count": 20,
   "metadata": {},
   "outputs": [
    {
     "data": {
      "text/html": [
       "<div>\n",
       "<style scoped>\n",
       "    .dataframe tbody tr th:only-of-type {\n",
       "        vertical-align: middle;\n",
       "    }\n",
       "\n",
       "    .dataframe tbody tr th {\n",
       "        vertical-align: top;\n",
       "    }\n",
       "\n",
       "    .dataframe thead th {\n",
       "        text-align: right;\n",
       "    }\n",
       "</style>\n",
       "<table border=\"1\" class=\"dataframe\">\n",
       "  <thead>\n",
       "    <tr style=\"text-align: right;\">\n",
       "      <th></th>\n",
       "      <th>RegNo</th>\n",
       "      <th>DOAd</th>\n",
       "      <th>FamilyNo</th>\n",
       "      <th>RollNo</th>\n",
       "      <th>StudentName</th>\n",
       "      <th>FatherName</th>\n",
       "      <th>DOB</th>\n",
       "      <th>Cast</th>\n",
       "      <th>ClassName</th>\n",
       "      <th>SecName</th>\n",
       "      <th>...</th>\n",
       "      <th>AddFormNo</th>\n",
       "      <th>Religion</th>\n",
       "      <th>FatherNo</th>\n",
       "      <th>MotherNo</th>\n",
       "      <th>Gender</th>\n",
       "      <th>Medium</th>\n",
       "      <th>Address</th>\n",
       "      <th>FeeType</th>\n",
       "      <th>Total Student Balance</th>\n",
       "      <th>Total Student Balance_b</th>\n",
       "    </tr>\n",
       "  </thead>\n",
       "  <tbody>\n",
       "    <tr>\n",
       "      <th>0</th>\n",
       "      <td>F6462</td>\n",
       "      <td>2022-07-27</td>\n",
       "      <td>2351</td>\n",
       "      <td>1</td>\n",
       "      <td>MUHAMMAD UMER</td>\n",
       "      <td>TOUQEER AHMAD</td>\n",
       "      <td>2020-03-10</td>\n",
       "      <td>MUGHAL</td>\n",
       "      <td>PLAY GROUP</td>\n",
       "      <td>JINNAH</td>\n",
       "      <td>...</td>\n",
       "      <td>F6462</td>\n",
       "      <td>MUSLIM</td>\n",
       "      <td>03224516687</td>\n",
       "      <td>3.234547e+09</td>\n",
       "      <td>MALE</td>\n",
       "      <td>ENGLISH</td>\n",
       "      <td>SITARA COLONY # 2 C A S LAHORE</td>\n",
       "      <td>FEE PAYING</td>\n",
       "      <td>NaN</td>\n",
       "      <td>NaN</td>\n",
       "    </tr>\n",
       "    <tr>\n",
       "      <th>1</th>\n",
       "      <td>F6508</td>\n",
       "      <td>2022-08-18</td>\n",
       "      <td>2379</td>\n",
       "      <td>2</td>\n",
       "      <td>SHABRAIZ</td>\n",
       "      <td>MUHAMMAD NAWAZ</td>\n",
       "      <td>2019-07-11</td>\n",
       "      <td>AWAN</td>\n",
       "      <td>PLAY GROUP</td>\n",
       "      <td>JINNAH</td>\n",
       "      <td>...</td>\n",
       "      <td>F6508</td>\n",
       "      <td>MUSLIM</td>\n",
       "      <td>03216189735</td>\n",
       "      <td>3.216568e+09</td>\n",
       "      <td>MALE</td>\n",
       "      <td>ENGLISH</td>\n",
       "      <td>MUHALA SITARA COLONY # 2 PIND BANDIAWALA C A S...</td>\n",
       "      <td>FEE PAYING</td>\n",
       "      <td>NaN</td>\n",
       "      <td>NaN</td>\n",
       "    </tr>\n",
       "    <tr>\n",
       "      <th>2</th>\n",
       "      <td>F6539</td>\n",
       "      <td>2022-09-20</td>\n",
       "      <td>1810</td>\n",
       "      <td>3</td>\n",
       "      <td>ALI HASSAN</td>\n",
       "      <td>MUHAMMAD ASIF ALI</td>\n",
       "      <td>2018-06-29</td>\n",
       "      <td>MALIK</td>\n",
       "      <td>PLAY GROUP</td>\n",
       "      <td>JINNAH</td>\n",
       "      <td>...</td>\n",
       "      <td>F6539</td>\n",
       "      <td>MUSLIM</td>\n",
       "      <td>03214857605</td>\n",
       "      <td>3.214858e+09</td>\n",
       "      <td>MALE</td>\n",
       "      <td>ENGLISH</td>\n",
       "      <td>SITTARA COLONY #2 HASHMI ST C A S LAHORE</td>\n",
       "      <td>50% DISCOUNT</td>\n",
       "      <td>NaN</td>\n",
       "      <td>2600.0</td>\n",
       "    </tr>\n",
       "    <tr>\n",
       "      <th>3</th>\n",
       "      <td>F6542</td>\n",
       "      <td>2022-09-26</td>\n",
       "      <td>2398</td>\n",
       "      <td>4</td>\n",
       "      <td>MUHAMMAD HAROON</td>\n",
       "      <td>QAMAR IQBAL</td>\n",
       "      <td>2017-07-08</td>\n",
       "      <td>NaN</td>\n",
       "      <td>PLAY GROUP</td>\n",
       "      <td>JINNAH</td>\n",
       "      <td>...</td>\n",
       "      <td>F6542</td>\n",
       "      <td>MUSLIM</td>\n",
       "      <td>03234576092</td>\n",
       "      <td>3.044801e+09</td>\n",
       "      <td>MALE</td>\n",
       "      <td>ENGLISH</td>\n",
       "      <td>SITARA COLONY # 2 MUGHAL STREET C A S LAHORE</td>\n",
       "      <td>FEE PAYING</td>\n",
       "      <td>NaN</td>\n",
       "      <td>NaN</td>\n",
       "    </tr>\n",
       "    <tr>\n",
       "      <th>4</th>\n",
       "      <td>F6543</td>\n",
       "      <td>2022-09-26</td>\n",
       "      <td>2398</td>\n",
       "      <td>5</td>\n",
       "      <td>AROOJ FATIMA</td>\n",
       "      <td>QAMAR IQBAL</td>\n",
       "      <td>1900-01-01</td>\n",
       "      <td>MUGHAL</td>\n",
       "      <td>PLAY GROUP</td>\n",
       "      <td>JINNAH</td>\n",
       "      <td>...</td>\n",
       "      <td>F6543</td>\n",
       "      <td>MUSLIM</td>\n",
       "      <td>03234576092</td>\n",
       "      <td>3.044801e+09</td>\n",
       "      <td>FEMALE</td>\n",
       "      <td>ENGLISH</td>\n",
       "      <td>SITARA COLONY # 2 MUGHAL STREET C A S LAHORE</td>\n",
       "      <td>FEE PAYING</td>\n",
       "      <td>NaN</td>\n",
       "      <td>NaN</td>\n",
       "    </tr>\n",
       "  </tbody>\n",
       "</table>\n",
       "<p>5 rows × 22 columns</p>\n",
       "</div>"
      ],
      "text/plain": [
       "   RegNo       DOAd  FamilyNo  RollNo      StudentName         FatherName  \\\n",
       "0  F6462 2022-07-27      2351       1    MUHAMMAD UMER      TOUQEER AHMAD   \n",
       "1  F6508 2022-08-18      2379       2         SHABRAIZ     MUHAMMAD NAWAZ   \n",
       "2  F6539 2022-09-20      1810       3       ALI HASSAN  MUHAMMAD ASIF ALI   \n",
       "3  F6542 2022-09-26      2398       4  MUHAMMAD HAROON        QAMAR IQBAL   \n",
       "4  F6543 2022-09-26      2398       5     AROOJ FATIMA        QAMAR IQBAL   \n",
       "\n",
       "         DOB    Cast   ClassName SecName  ... AddFormNo Religion     FatherNo  \\\n",
       "0 2020-03-10  MUGHAL  PLAY GROUP  JINNAH  ...     F6462   MUSLIM  03224516687   \n",
       "1 2019-07-11    AWAN  PLAY GROUP  JINNAH  ...     F6508   MUSLIM  03216189735   \n",
       "2 2018-06-29   MALIK  PLAY GROUP  JINNAH  ...     F6539   MUSLIM  03214857605   \n",
       "3 2017-07-08     NaN  PLAY GROUP  JINNAH  ...     F6542   MUSLIM  03234576092   \n",
       "4 1900-01-01  MUGHAL  PLAY GROUP  JINNAH  ...     F6543   MUSLIM  03234576092   \n",
       "\n",
       "       MotherNo  Gender   Medium  \\\n",
       "0  3.234547e+09    MALE  ENGLISH   \n",
       "1  3.216568e+09    MALE  ENGLISH   \n",
       "2  3.214858e+09    MALE  ENGLISH   \n",
       "3  3.044801e+09    MALE  ENGLISH   \n",
       "4  3.044801e+09  FEMALE  ENGLISH   \n",
       "\n",
       "                                             Address       FeeType  \\\n",
       "0                     SITARA COLONY # 2 C A S LAHORE    FEE PAYING   \n",
       "1  MUHALA SITARA COLONY # 2 PIND BANDIAWALA C A S...    FEE PAYING   \n",
       "2           SITTARA COLONY #2 HASHMI ST C A S LAHORE  50% DISCOUNT   \n",
       "3       SITARA COLONY # 2 MUGHAL STREET C A S LAHORE    FEE PAYING   \n",
       "4       SITARA COLONY # 2 MUGHAL STREET C A S LAHORE    FEE PAYING   \n",
       "\n",
       "  Total Student Balance Total Student Balance_b  \n",
       "0                   NaN                     NaN  \n",
       "1                   NaN                     NaN  \n",
       "2                   NaN                  2600.0  \n",
       "3                   NaN                     NaN  \n",
       "4                   NaN                     NaN  \n",
       "\n",
       "[5 rows x 22 columns]"
      ]
     },
     "execution_count": 20,
     "metadata": {},
     "output_type": "execute_result"
    }
   ],
   "source": [
    "columns = ['RegNo', 'DOAd', 'FamilyNo', 'RollNo', 'StudentName', 'FatherName',\n",
    "       'DOB', 'Cast', 'ClassName', 'SecName', 'FCNIC', 'BForm', 'AddFormNo',\n",
    "       'Religion', 'FatherNo', 'MotherNo', 'Gender', 'Medium', 'Address',\n",
    "       'FeeType', 'Total Student Balance', 'Total Student Balance_b']\n",
    "students_boys_and_girls_data = students_boys_and_girls_data[columns]\n",
    "students_boys_and_girls_data.head()"
   ]
  },
  {
   "attachments": {},
   "cell_type": "markdown",
   "metadata": {},
   "source": [
    "### Missing Boys Data"
   ]
  },
  {
   "cell_type": "code",
   "execution_count": 21,
   "metadata": {},
   "outputs": [
    {
     "data": {
      "text/plain": [
       "(36, 10)"
      ]
     },
     "execution_count": 21,
     "metadata": {},
     "output_type": "execute_result"
    }
   ],
   "source": [
    "family_no =  students_boys_and_girls_data[~students_boys_and_girls_data['Total Student Balance_b'].isna()]['FamilyNo']\n",
    "student_name =  students_boys_and_girls_data[~students_boys_and_girls_data['Total Student Balance_b'].isna()]['StudentName']\n",
    "condition = boys_branch['FamilyNo'].isin(family_no) \\\n",
    "              & boys_branch['StudentName'].isin(student_name)\n",
    "missing_boys = boys_branch[~condition]\n",
    "missing_boys.shape"
   ]
  },
  {
   "cell_type": "code",
   "execution_count": 22,
   "metadata": {},
   "outputs": [],
   "source": [
    "missing_boys.to_excel('./result/Missing Boys Data.xlsx', index=False)"
   ]
  },
  {
   "cell_type": "code",
   "execution_count": 23,
   "metadata": {},
   "outputs": [
    {
     "data": {
      "text/plain": [
       "(1633, 22)"
      ]
     },
     "execution_count": 23,
     "metadata": {},
     "output_type": "execute_result"
    }
   ],
   "source": [
    "students_boys_and_girls_data.shape"
   ]
  },
  {
   "cell_type": "code",
   "execution_count": 24,
   "metadata": {},
   "outputs": [],
   "source": [
    "for con1, con2 in zip(students_boys_and_girls_data['Total Student Balance'], students_boys_and_girls_data['Total Student Balance_b']):\n",
    "    if str(con1) != 'nan' and str(con2) != 'nan':\n",
    "        print('Wrong', con1, con2)"
   ]
  },
  {
   "cell_type": "code",
   "execution_count": 25,
   "metadata": {},
   "outputs": [
    {
     "data": {
      "text/plain": [
       "Index(['RegNo', 'DOAd', 'FamilyNo', 'RollNo', 'StudentName', 'FatherName',\n",
       "       'DOB', 'Cast', 'ClassName', 'SecName', 'FCNIC', 'BForm', 'AddFormNo',\n",
       "       'Religion', 'FatherNo', 'MotherNo', 'Gender', 'Medium', 'Address',\n",
       "       'FeeType', 'Total Student Balance'],\n",
       "      dtype='object')"
      ]
     },
     "execution_count": 25,
     "metadata": {},
     "output_type": "execute_result"
    }
   ],
   "source": [
    "students_boys_and_girls_data['Merged Balance'] = students_boys_and_girls_data['Total Student Balance'] \\\n",
    "  .combine_first(students_boys_and_girls_data['Total Student Balance_b'])\n",
    "students_boys_and_girls_data = students_boys_and_girls_data.drop(columns=['Total Student Balance', 'Total Student Balance_b'])\n",
    "students_boys_and_girls_data['Total Student Balance'] = students_boys_and_girls_data['Merged Balance']\n",
    "students_boys_and_girls_data = students_boys_and_girls_data.drop(columns='Merged Balance')\n",
    "students_boys_and_girls_data.columns"
   ]
  },
  {
   "cell_type": "code",
   "execution_count": 26,
   "metadata": {},
   "outputs": [],
   "source": [
    "students_boys_and_girls_data.to_excel('./result/Student Data.xlsx', index=False)"
   ]
  },
  {
   "cell_type": "code",
   "execution_count": 31,
   "metadata": {},
   "outputs": [
    {
     "data": {
      "text/plain": [
       "count      731.000000\n",
       "mean      2865.690834\n",
       "std       2298.275687\n",
       "min         50.000000\n",
       "25%       1600.000000\n",
       "50%       2000.000000\n",
       "75%       3465.000000\n",
       "max      20100.000000\n",
       "Name: Total Student Balance, dtype: float64"
      ]
     },
     "execution_count": 31,
     "metadata": {},
     "output_type": "execute_result"
    }
   ],
   "source": [
    "students_boys_and_girls_data['Total Student Balance'].describe()"
   ]
  }
 ],
 "metadata": {
  "kernelspec": {
   "display_name": "Python 3",
   "language": "python",
   "name": "python3"
  },
  "language_info": {
   "codemirror_mode": {
    "name": "ipython",
    "version": 3
   },
   "file_extension": ".py",
   "mimetype": "text/x-python",
   "name": "python",
   "nbconvert_exporter": "python",
   "pygments_lexer": "ipython3",
   "version": "3.10.7"
  },
  "orig_nbformat": 4
 },
 "nbformat": 4,
 "nbformat_minor": 2
}
